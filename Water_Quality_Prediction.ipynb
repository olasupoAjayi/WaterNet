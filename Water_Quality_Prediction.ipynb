{
  "cells": [
    {
      "cell_type": "markdown",
      "metadata": {
        "id": "view-in-github",
        "colab_type": "text"
      },
      "source": [
        "<a href=\"https://colab.research.google.com/github/olasupoAjayi/WaterNet/blob/main/Water_Quality_Prediction.ipynb\" target=\"_parent\"><img src=\"https://colab.research.google.com/assets/colab-badge.svg\" alt=\"Open In Colab\"/></a>"
      ]
    },
    {
      "cell_type": "markdown",
      "metadata": {
        "id": "4mQuuHh7dwCd"
      },
      "source": [
        "# Water Quality Prediction"
      ]
    },
    {
      "cell_type": "markdown",
      "metadata": {
        "id": "fr8ArzQrdwCe"
      },
      "source": [
        "## About Dataset\n",
        "\n",
        "#### Context\n",
        "Access to safe drinking-water is essential to health, a basic human right and a component of effective policy for health protection. This is important as a health and development issue at a national, regional and local level. In some regions, it has been shown that investments in water supply and sanitation can yield a net economic benefit, since the reductions in adverse health effects and health care costs outweigh the costs of undertaking the interventions.\n",
        "\n",
        "#### Content\n",
        "The water_potability.csv file contains water quality metrics for 3276 different water bodies.\n",
        "\n",
        "##### 1. pH value:\n",
        "PH is an important parameter in evaluating the acid–base balance of water. It is also the indicator of acidic or alkaline condition of water status. WHO has recommended maximum permissible limit of pH from 6.5 to 8.5. The current investigation ranges were 6.52–6.83 which are in the range of WHO standards.\n",
        "\n",
        "##### 2. Hardness:\n",
        "Hardness is mainly caused by calcium and magnesium salts. These salts are dissolved from geologic deposits through which water travels. The length of time water is in contact with hardness producing material helps determine how much hardness there is in raw water. Hardness was originally defined as the capacity of water to precipitate soap caused by Calcium and Magnesium.\n",
        "\n",
        "##### 3. Solids (Total dissolved solids - TDS):\n",
        "Water has the ability to dissolve a wide range of inorganic and some organic minerals or salts such as potassium, calcium, sodium, bicarbonates, chlorides, magnesium, sulfates etc. These minerals produced un-wanted taste and diluted color in appearance of water. This is the important parameter for the use of water. The water with high TDS value indicates that water is highly mineralized. Desirable limit for TDS is 500 mg/l and maximum limit is 1000 mg/l which prescribed for drinking purpose.\n",
        "\n",
        "##### 4. Chloramines:\n",
        "Chlorine and chloramine are the major disinfectants used in public water systems. Chloramines are most commonly formed when ammonia is added to chlorine to treat drinking water. Chlorine levels up to 4 milligrams per liter (mg/L or 4 parts per million (ppm)) are considered safe in drinking water.\n",
        "\n",
        "##### 5. Sulfate:\n",
        "Sulfates are naturally occurring substances that are found in minerals, soil, and rocks. They are present in ambient air, groundwater, plants, and food. The principal commercial use of sulfate is in the chemical industry. Sulfate concentration in seawater is about 2,700 milligrams per liter (mg/L). It ranges from 3 to 30 mg/L in most freshwater supplies, although much higher concentrations (1000 mg/L) are found in some geographic locations.\n",
        "\n",
        "##### 6. Conductivity:\n",
        "Pure water is not a good conductor of electric current rather’s a good insulator. Increase in ions concentration enhances the electrical conductivity of water. Generally, the amount of dissolved solids in water determines the electrical conductivity. Electrical conductivity (EC) actually measures the ionic process of a solution that enables it to transmit current. According to WHO standards, EC value should not exceeded 400 μS/cm.\n",
        "\n",
        "##### 7. Organic_carbon:\n",
        "Total Organic Carbon (TOC) in source waters comes from decaying natural organic matter (NOM) as well as synthetic sources. TOC is a measure of the total amount of carbon in organic compounds in pure water. According to US EPA < 2 mg/L as TOC in treated / drinking water, and < 4 mg/Lit in source water which is use for treatment.\n",
        "\n",
        "###### 9. Turbidity:\n",
        "The turbidity of water depends on the quantity of solid matter present in the suspended state. It is a measure of light emitting properties of water and the test is used to indicate the quality of waste discharge with respect to colloidal matter. The mean turbidity value obtained for Wondo Genet Campus (0.98 NTU) is lower than the WHO recommended value of 5.00 NTU.\n",
        "\n",
        "##### 10. Potability:\n",
        "Indicates if water is safe for human consumption where 1 means Potable and 0 means Not potable.\n",
        "(0) Water is not safe to drink and (1) Water is safe to drink"
      ]
    },
    {
      "cell_type": "markdown",
      "metadata": {
        "id": "LtdHC3PViNTd"
      },
      "source": [
        "# Data Gathering"
      ]
    },
    {
      "cell_type": "code",
      "execution_count": null,
      "metadata": {
        "id": "7x31ilqudwCg"
      },
      "outputs": [],
      "source": [
        "import pandas as pd\n",
        "import numpy as np\n",
        "import matplotlib.pyplot as plt\n",
        "import seaborn as sns\n",
        "from google.colab import drive\n",
        "from sklearn.model_selection import train_test_split\n",
        "from sklearn.preprocessing import StandardScaler"
      ]
    },
    {
      "cell_type": "code",
      "source": [
        "#This cell extracts R dataset to Python using pyreadr\n",
        "#author of library to be cited later\n",
        "#usually needs a restart of the runtime\n",
        "#after reading d rds file, it writes it to csv\n",
        "def convert_rds_to_csv():\n",
        "  !pip install pyreadr\n",
        "  import pyreadr\n",
        "\n",
        "  drive.mount('/content/drive')\n",
        "  result = pyreadr.read_r('/content/drive/MyDrive/Projects/2022/WaterResearch/dataset3_Gecco.RDS')\n",
        "  df = result[None]\n",
        "\n",
        "  df.to_csv('/content/drive/MyDrive/Projects/2022/WaterResearch/dataset3_Gecco.csv', index=False)"
      ],
      "metadata": {
        "id": "TVlEjiUL0PpA"
      },
      "execution_count": null,
      "outputs": []
    },
    {
      "cell_type": "code",
      "source": [
        "#This extracts CSV dataset from Google drive using pandas.read_csv()\n",
        "\n",
        "drive.mount('/content/drive')\n",
        "#df = pd.read_csv('/content/drive/MyDrive/Projects/2022/WaterResearch/dataset0_Fake_water_potability.csv')\n",
        "#df = pd.read_csv('/content/drive/MyDrive/Projects/2022/WaterResearch/dataset1_testbed_augmented.csv')\n",
        "#df = pd.read_csv('/content/drive/MyDrive/Projects/2022/WaterResearch/dataset3_Gecco.csv', names=['Time', 'Temp', 'Chlorine', 'pH', 'Redox', 'Conductivity', 'Turbidity', 'Chlorine2', 'FlowRate1', 'FlowRate2', 'Potability'], skiprows=[0])\n",
        "df = pd.read_csv('/content/drive/MyDrive/Projects/2022/WaterResearch/dataset5_drinking2.csv')\n",
        "#dfa = pd.read_csv('/content/drive/MyDrive/Projects/2022/WaterResearch/dataset5_agric3.csv')\n",
        "df.head(10)"
      ],
      "metadata": {
        "id": "xmyIsVtGa2ER",
        "colab": {
          "base_uri": "https://localhost:8080/",
          "height": 380
        },
        "outputId": "fd642772-6657-421e-ee57-3e1bf122eba2"
      },
      "execution_count": null,
      "outputs": [
        {
          "output_type": "stream",
          "name": "stdout",
          "text": [
            "Mounted at /content/drive\n"
          ]
        },
        {
          "output_type": "execute_result",
          "data": {
            "text/html": [
              "\n",
              "  <div id=\"df-d87b65db-38ef-41b0-a080-9d6c570cc5bf\">\n",
              "    <div class=\"colab-df-container\">\n",
              "      <div>\n",
              "<style scoped>\n",
              "    .dataframe tbody tr th:only-of-type {\n",
              "        vertical-align: middle;\n",
              "    }\n",
              "\n",
              "    .dataframe tbody tr th {\n",
              "        vertical-align: top;\n",
              "    }\n",
              "\n",
              "    .dataframe thead th {\n",
              "        text-align: right;\n",
              "    }\n",
              "</style>\n",
              "<table border=\"1\" class=\"dataframe\">\n",
              "  <thead>\n",
              "    <tr style=\"text-align: right;\">\n",
              "      <th></th>\n",
              "      <th>id</th>\n",
              "      <th>pH</th>\n",
              "      <th>Sodium</th>\n",
              "      <th>Magnesium</th>\n",
              "      <th>Calcium</th>\n",
              "      <th>Chloride</th>\n",
              "      <th>Potassium</th>\n",
              "      <th>Carbonate</th>\n",
              "      <th>Sulphate</th>\n",
              "      <th>TDS</th>\n",
              "      <th>EC</th>\n",
              "      <th>TH</th>\n",
              "      <th>WQI</th>\n",
              "      <th>Potability</th>\n",
              "    </tr>\n",
              "  </thead>\n",
              "  <tbody>\n",
              "    <tr>\n",
              "      <th>0</th>\n",
              "      <td>L1</td>\n",
              "      <td>7.3</td>\n",
              "      <td>77.5</td>\n",
              "      <td>32.6</td>\n",
              "      <td>81.4</td>\n",
              "      <td>63.6</td>\n",
              "      <td>2.0</td>\n",
              "      <td>419.7</td>\n",
              "      <td>68.2</td>\n",
              "      <td>640.0</td>\n",
              "      <td>1045.0</td>\n",
              "      <td>338.0</td>\n",
              "      <td>NaN</td>\n",
              "      <td>NaN</td>\n",
              "    </tr>\n",
              "    <tr>\n",
              "      <th>1</th>\n",
              "      <td>L2</td>\n",
              "      <td>7.5</td>\n",
              "      <td>36.1</td>\n",
              "      <td>31.1</td>\n",
              "      <td>42.4</td>\n",
              "      <td>19.5</td>\n",
              "      <td>1.6</td>\n",
              "      <td>273.3</td>\n",
              "      <td>57.1</td>\n",
              "      <td>400.0</td>\n",
              "      <td>645.0</td>\n",
              "      <td>234.0</td>\n",
              "      <td>NaN</td>\n",
              "      <td>NaN</td>\n",
              "    </tr>\n",
              "    <tr>\n",
              "      <th>2</th>\n",
              "      <td>L3</td>\n",
              "      <td>7.7</td>\n",
              "      <td>119.4</td>\n",
              "      <td>19.0</td>\n",
              "      <td>58.2</td>\n",
              "      <td>60.7</td>\n",
              "      <td>1.2</td>\n",
              "      <td>195.2</td>\n",
              "      <td>220.8</td>\n",
              "      <td>640.0</td>\n",
              "      <td>998.0</td>\n",
              "      <td>224.0</td>\n",
              "      <td>NaN</td>\n",
              "      <td>NaN</td>\n",
              "    </tr>\n",
              "    <tr>\n",
              "      <th>3</th>\n",
              "      <td>L4</td>\n",
              "      <td>6.0</td>\n",
              "      <td>117.1</td>\n",
              "      <td>29.7</td>\n",
              "      <td>145.4</td>\n",
              "      <td>37.3</td>\n",
              "      <td>2.7</td>\n",
              "      <td>580.7</td>\n",
              "      <td>190.1</td>\n",
              "      <td>950.0</td>\n",
              "      <td>1516.0</td>\n",
              "      <td>486.0</td>\n",
              "      <td>NaN</td>\n",
              "      <td>NaN</td>\n",
              "    </tr>\n",
              "    <tr>\n",
              "      <th>4</th>\n",
              "      <td>L5</td>\n",
              "      <td>7.0</td>\n",
              "      <td>45.1</td>\n",
              "      <td>23.4</td>\n",
              "      <td>49.6</td>\n",
              "      <td>23.4</td>\n",
              "      <td>1.2</td>\n",
              "      <td>248.9</td>\n",
              "      <td>74.9</td>\n",
              "      <td>410.0</td>\n",
              "      <td>658.0</td>\n",
              "      <td>220.0</td>\n",
              "      <td>NaN</td>\n",
              "      <td>NaN</td>\n",
              "    </tr>\n",
              "    <tr>\n",
              "      <th>5</th>\n",
              "      <td>L6</td>\n",
              "      <td>7.0</td>\n",
              "      <td>73.4</td>\n",
              "      <td>33.0</td>\n",
              "      <td>50.4</td>\n",
              "      <td>35.2</td>\n",
              "      <td>2.3</td>\n",
              "      <td>346.5</td>\n",
              "      <td>83.0</td>\n",
              "      <td>540.0</td>\n",
              "      <td>875.0</td>\n",
              "      <td>262.0</td>\n",
              "      <td>NaN</td>\n",
              "      <td>NaN</td>\n",
              "    </tr>\n",
              "    <tr>\n",
              "      <th>6</th>\n",
              "      <td>L7</td>\n",
              "      <td>7.2</td>\n",
              "      <td>121.9</td>\n",
              "      <td>29.7</td>\n",
              "      <td>67.8</td>\n",
              "      <td>47.2</td>\n",
              "      <td>1.2</td>\n",
              "      <td>195.2</td>\n",
              "      <td>310.1</td>\n",
              "      <td>740.0</td>\n",
              "      <td>1153.0</td>\n",
              "      <td>292.0</td>\n",
              "      <td>NaN</td>\n",
              "      <td>NaN</td>\n",
              "    </tr>\n",
              "    <tr>\n",
              "      <th>7</th>\n",
              "      <td>L8</td>\n",
              "      <td>7.3</td>\n",
              "      <td>54.1</td>\n",
              "      <td>16.6</td>\n",
              "      <td>56.6</td>\n",
              "      <td>24.5</td>\n",
              "      <td>1.2</td>\n",
              "      <td>297.7</td>\n",
              "      <td>45.1</td>\n",
              "      <td>420.0</td>\n",
              "      <td>676.0</td>\n",
              "      <td>210.0</td>\n",
              "      <td>NaN</td>\n",
              "      <td>NaN</td>\n",
              "    </tr>\n",
              "    <tr>\n",
              "      <th>8</th>\n",
              "      <td>L9</td>\n",
              "      <td>7.3</td>\n",
              "      <td>55.2</td>\n",
              "      <td>25.3</td>\n",
              "      <td>68.6</td>\n",
              "      <td>45.1</td>\n",
              "      <td>2.0</td>\n",
              "      <td>307.4</td>\n",
              "      <td>74.9</td>\n",
              "      <td>510.0</td>\n",
              "      <td>817.0</td>\n",
              "      <td>276.0</td>\n",
              "      <td>NaN</td>\n",
              "      <td>NaN</td>\n",
              "    </tr>\n",
              "    <tr>\n",
              "      <th>9</th>\n",
              "      <td>L10</td>\n",
              "      <td>7.2</td>\n",
              "      <td>59.8</td>\n",
              "      <td>32.6</td>\n",
              "      <td>57.4</td>\n",
              "      <td>31.2</td>\n",
              "      <td>3.1</td>\n",
              "      <td>341.6</td>\n",
              "      <td>80.2</td>\n",
              "      <td>530.0</td>\n",
              "      <td>848.0</td>\n",
              "      <td>278.0</td>\n",
              "      <td>NaN</td>\n",
              "      <td>NaN</td>\n",
              "    </tr>\n",
              "  </tbody>\n",
              "</table>\n",
              "</div>\n",
              "      <button class=\"colab-df-convert\" onclick=\"convertToInteractive('df-d87b65db-38ef-41b0-a080-9d6c570cc5bf')\"\n",
              "              title=\"Convert this dataframe to an interactive table.\"\n",
              "              style=\"display:none;\">\n",
              "        \n",
              "  <svg xmlns=\"http://www.w3.org/2000/svg\" height=\"24px\"viewBox=\"0 0 24 24\"\n",
              "       width=\"24px\">\n",
              "    <path d=\"M0 0h24v24H0V0z\" fill=\"none\"/>\n",
              "    <path d=\"M18.56 5.44l.94 2.06.94-2.06 2.06-.94-2.06-.94-.94-2.06-.94 2.06-2.06.94zm-11 1L8.5 8.5l.94-2.06 2.06-.94-2.06-.94L8.5 2.5l-.94 2.06-2.06.94zm10 10l.94 2.06.94-2.06 2.06-.94-2.06-.94-.94-2.06-.94 2.06-2.06.94z\"/><path d=\"M17.41 7.96l-1.37-1.37c-.4-.4-.92-.59-1.43-.59-.52 0-1.04.2-1.43.59L10.3 9.45l-7.72 7.72c-.78.78-.78 2.05 0 2.83L4 21.41c.39.39.9.59 1.41.59.51 0 1.02-.2 1.41-.59l7.78-7.78 2.81-2.81c.8-.78.8-2.07 0-2.86zM5.41 20L4 18.59l7.72-7.72 1.47 1.35L5.41 20z\"/>\n",
              "  </svg>\n",
              "      </button>\n",
              "      \n",
              "  <style>\n",
              "    .colab-df-container {\n",
              "      display:flex;\n",
              "      flex-wrap:wrap;\n",
              "      gap: 12px;\n",
              "    }\n",
              "\n",
              "    .colab-df-convert {\n",
              "      background-color: #E8F0FE;\n",
              "      border: none;\n",
              "      border-radius: 50%;\n",
              "      cursor: pointer;\n",
              "      display: none;\n",
              "      fill: #1967D2;\n",
              "      height: 32px;\n",
              "      padding: 0 0 0 0;\n",
              "      width: 32px;\n",
              "    }\n",
              "\n",
              "    .colab-df-convert:hover {\n",
              "      background-color: #E2EBFA;\n",
              "      box-shadow: 0px 1px 2px rgba(60, 64, 67, 0.3), 0px 1px 3px 1px rgba(60, 64, 67, 0.15);\n",
              "      fill: #174EA6;\n",
              "    }\n",
              "\n",
              "    [theme=dark] .colab-df-convert {\n",
              "      background-color: #3B4455;\n",
              "      fill: #D2E3FC;\n",
              "    }\n",
              "\n",
              "    [theme=dark] .colab-df-convert:hover {\n",
              "      background-color: #434B5C;\n",
              "      box-shadow: 0px 1px 3px 1px rgba(0, 0, 0, 0.15);\n",
              "      filter: drop-shadow(0px 1px 2px rgba(0, 0, 0, 0.3));\n",
              "      fill: #FFFFFF;\n",
              "    }\n",
              "  </style>\n",
              "\n",
              "      <script>\n",
              "        const buttonEl =\n",
              "          document.querySelector('#df-d87b65db-38ef-41b0-a080-9d6c570cc5bf button.colab-df-convert');\n",
              "        buttonEl.style.display =\n",
              "          google.colab.kernel.accessAllowed ? 'block' : 'none';\n",
              "\n",
              "        async function convertToInteractive(key) {\n",
              "          const element = document.querySelector('#df-d87b65db-38ef-41b0-a080-9d6c570cc5bf');\n",
              "          const dataTable =\n",
              "            await google.colab.kernel.invokeFunction('convertToInteractive',\n",
              "                                                     [key], {});\n",
              "          if (!dataTable) return;\n",
              "\n",
              "          const docLinkHtml = 'Like what you see? Visit the ' +\n",
              "            '<a target=\"_blank\" href=https://colab.research.google.com/notebooks/data_table.ipynb>data table notebook</a>'\n",
              "            + ' to learn more about interactive tables.';\n",
              "          element.innerHTML = '';\n",
              "          dataTable['output_type'] = 'display_data';\n",
              "          await google.colab.output.renderOutput(dataTable, element);\n",
              "          const docLink = document.createElement('div');\n",
              "          docLink.innerHTML = docLinkHtml;\n",
              "          element.appendChild(docLink);\n",
              "        }\n",
              "      </script>\n",
              "    </div>\n",
              "  </div>\n",
              "  "
            ],
            "text/plain": [
              "    id   pH  Sodium  Magnesium  Calcium  ...    TDS      EC     TH  WQI  Potability\n",
              "0   L1  7.3    77.5       32.6     81.4  ...  640.0  1045.0  338.0  NaN         NaN\n",
              "1   L2  7.5    36.1       31.1     42.4  ...  400.0   645.0  234.0  NaN         NaN\n",
              "2   L3  7.7   119.4       19.0     58.2  ...  640.0   998.0  224.0  NaN         NaN\n",
              "3   L4  6.0   117.1       29.7    145.4  ...  950.0  1516.0  486.0  NaN         NaN\n",
              "4   L5  7.0    45.1       23.4     49.6  ...  410.0   658.0  220.0  NaN         NaN\n",
              "5   L6  7.0    73.4       33.0     50.4  ...  540.0   875.0  262.0  NaN         NaN\n",
              "6   L7  7.2   121.9       29.7     67.8  ...  740.0  1153.0  292.0  NaN         NaN\n",
              "7   L8  7.3    54.1       16.6     56.6  ...  420.0   676.0  210.0  NaN         NaN\n",
              "8   L9  7.3    55.2       25.3     68.6  ...  510.0   817.0  276.0  NaN         NaN\n",
              "9  L10  7.2    59.8       32.6     57.4  ...  530.0   848.0  278.0  NaN         NaN\n",
              "\n",
              "[10 rows x 14 columns]"
            ]
          },
          "metadata": {},
          "execution_count": 2
        }
      ]
    },
    {
      "cell_type": "markdown",
      "metadata": {
        "id": "LELZXbMLdwCj"
      },
      "source": [
        "# Exploratory Data Analysis"
      ]
    },
    {
      "cell_type": "code",
      "source": [
        "dfa.head(10)"
      ],
      "metadata": {
        "colab": {
          "base_uri": "https://localhost:8080/",
          "height": 363
        },
        "id": "iozsgcfGjWuS",
        "outputId": "3ed2cd9e-7e24-48c3-8e80-a04609b2f1c6"
      },
      "execution_count": null,
      "outputs": [
        {
          "output_type": "execute_result",
          "data": {
            "text/html": [
              "\n",
              "  <div id=\"df-4e3874ec-b5a1-46e2-9af7-60deedb20f70\">\n",
              "    <div class=\"colab-df-container\">\n",
              "      <div>\n",
              "<style scoped>\n",
              "    .dataframe tbody tr th:only-of-type {\n",
              "        vertical-align: middle;\n",
              "    }\n",
              "\n",
              "    .dataframe tbody tr th {\n",
              "        vertical-align: top;\n",
              "    }\n",
              "\n",
              "    .dataframe thead th {\n",
              "        text-align: right;\n",
              "    }\n",
              "</style>\n",
              "<table border=\"1\" class=\"dataframe\">\n",
              "  <thead>\n",
              "    <tr style=\"text-align: right;\">\n",
              "      <th></th>\n",
              "      <th>id</th>\n",
              "      <th>RSC</th>\n",
              "      <th>PI</th>\n",
              "      <th>KR</th>\n",
              "      <th>MH</th>\n",
              "      <th>Na</th>\n",
              "      <th>SAR</th>\n",
              "      <th>SSP</th>\n",
              "      <th>EC</th>\n",
              "      <th>IWQI</th>\n",
              "      <th>USABLE</th>\n",
              "    </tr>\n",
              "  </thead>\n",
              "  <tbody>\n",
              "    <tr>\n",
              "      <th>0</th>\n",
              "      <td>1</td>\n",
              "      <td>0.12</td>\n",
              "      <td>59.2</td>\n",
              "      <td>0.5</td>\n",
              "      <td>39.8</td>\n",
              "      <td>33.6</td>\n",
              "      <td>1.8</td>\n",
              "      <td>33.3</td>\n",
              "      <td>1045</td>\n",
              "      <td>NaN</td>\n",
              "      <td>NaN</td>\n",
              "    </tr>\n",
              "    <tr>\n",
              "      <th>1</th>\n",
              "      <td>2</td>\n",
              "      <td>-0.21</td>\n",
              "      <td>58.9</td>\n",
              "      <td>0.3</td>\n",
              "      <td>54.8</td>\n",
              "      <td>25.6</td>\n",
              "      <td>1.0</td>\n",
              "      <td>25.1</td>\n",
              "      <td>645</td>\n",
              "      <td>NaN</td>\n",
              "      <td>NaN</td>\n",
              "    </tr>\n",
              "    <tr>\n",
              "      <th>2</th>\n",
              "      <td>3</td>\n",
              "      <td>-1.28</td>\n",
              "      <td>72.2</td>\n",
              "      <td>1.2</td>\n",
              "      <td>35.0</td>\n",
              "      <td>53.8</td>\n",
              "      <td>3.5</td>\n",
              "      <td>53.7</td>\n",
              "      <td>998</td>\n",
              "      <td>NaN</td>\n",
              "      <td>NaN</td>\n",
              "    </tr>\n",
              "    <tr>\n",
              "      <th>3</th>\n",
              "      <td>4</td>\n",
              "      <td>-0.20</td>\n",
              "      <td>55.2</td>\n",
              "      <td>0.5</td>\n",
              "      <td>25.2</td>\n",
              "      <td>34.7</td>\n",
              "      <td>2.3</td>\n",
              "      <td>34.4</td>\n",
              "      <td>1516</td>\n",
              "      <td>NaN</td>\n",
              "      <td>NaN</td>\n",
              "    </tr>\n",
              "    <tr>\n",
              "      <th>4</th>\n",
              "      <td>5</td>\n",
              "      <td>-0.33</td>\n",
              "      <td>62.5</td>\n",
              "      <td>0.4</td>\n",
              "      <td>43.8</td>\n",
              "      <td>31.1</td>\n",
              "      <td>1.3</td>\n",
              "      <td>30.8</td>\n",
              "      <td>658</td>\n",
              "      <td>NaN</td>\n",
              "      <td>NaN</td>\n",
              "    </tr>\n",
              "    <tr>\n",
              "      <th>5</th>\n",
              "      <td>6</td>\n",
              "      <td>0.43</td>\n",
              "      <td>66.0</td>\n",
              "      <td>0.6</td>\n",
              "      <td>52.0</td>\n",
              "      <td>38.2</td>\n",
              "      <td>2.0</td>\n",
              "      <td>37.8</td>\n",
              "      <td>875</td>\n",
              "      <td>NaN</td>\n",
              "      <td>NaN</td>\n",
              "    </tr>\n",
              "    <tr>\n",
              "      <th>6</th>\n",
              "      <td>7</td>\n",
              "      <td>-2.64</td>\n",
              "      <td>63.6</td>\n",
              "      <td>0.9</td>\n",
              "      <td>42.0</td>\n",
              "      <td>47.7</td>\n",
              "      <td>3.1</td>\n",
              "      <td>47.6</td>\n",
              "      <td>1153</td>\n",
              "      <td>NaN</td>\n",
              "      <td>NaN</td>\n",
              "    </tr>\n",
              "    <tr>\n",
              "      <th>7</th>\n",
              "      <td>8</td>\n",
              "      <td>0.68</td>\n",
              "      <td>69.6</td>\n",
              "      <td>0.6</td>\n",
              "      <td>32.6</td>\n",
              "      <td>36.2</td>\n",
              "      <td>1.6</td>\n",
              "      <td>35.9</td>\n",
              "      <td>676</td>\n",
              "      <td>NaN</td>\n",
              "      <td>NaN</td>\n",
              "    </tr>\n",
              "    <tr>\n",
              "      <th>8</th>\n",
              "      <td>9</td>\n",
              "      <td>-0.48</td>\n",
              "      <td>58.7</td>\n",
              "      <td>0.4</td>\n",
              "      <td>37.9</td>\n",
              "      <td>30.7</td>\n",
              "      <td>1.4</td>\n",
              "      <td>30.3</td>\n",
              "      <td>817</td>\n",
              "      <td>NaN</td>\n",
              "      <td>NaN</td>\n",
              "    </tr>\n",
              "    <tr>\n",
              "      <th>9</th>\n",
              "      <td>10</td>\n",
              "      <td>0.04</td>\n",
              "      <td>60.9</td>\n",
              "      <td>0.5</td>\n",
              "      <td>48.4</td>\n",
              "      <td>32.5</td>\n",
              "      <td>1.6</td>\n",
              "      <td>31.9</td>\n",
              "      <td>848</td>\n",
              "      <td>NaN</td>\n",
              "      <td>NaN</td>\n",
              "    </tr>\n",
              "  </tbody>\n",
              "</table>\n",
              "</div>\n",
              "      <button class=\"colab-df-convert\" onclick=\"convertToInteractive('df-4e3874ec-b5a1-46e2-9af7-60deedb20f70')\"\n",
              "              title=\"Convert this dataframe to an interactive table.\"\n",
              "              style=\"display:none;\">\n",
              "        \n",
              "  <svg xmlns=\"http://www.w3.org/2000/svg\" height=\"24px\"viewBox=\"0 0 24 24\"\n",
              "       width=\"24px\">\n",
              "    <path d=\"M0 0h24v24H0V0z\" fill=\"none\"/>\n",
              "    <path d=\"M18.56 5.44l.94 2.06.94-2.06 2.06-.94-2.06-.94-.94-2.06-.94 2.06-2.06.94zm-11 1L8.5 8.5l.94-2.06 2.06-.94-2.06-.94L8.5 2.5l-.94 2.06-2.06.94zm10 10l.94 2.06.94-2.06 2.06-.94-2.06-.94-.94-2.06-.94 2.06-2.06.94z\"/><path d=\"M17.41 7.96l-1.37-1.37c-.4-.4-.92-.59-1.43-.59-.52 0-1.04.2-1.43.59L10.3 9.45l-7.72 7.72c-.78.78-.78 2.05 0 2.83L4 21.41c.39.39.9.59 1.41.59.51 0 1.02-.2 1.41-.59l7.78-7.78 2.81-2.81c.8-.78.8-2.07 0-2.86zM5.41 20L4 18.59l7.72-7.72 1.47 1.35L5.41 20z\"/>\n",
              "  </svg>\n",
              "      </button>\n",
              "      \n",
              "  <style>\n",
              "    .colab-df-container {\n",
              "      display:flex;\n",
              "      flex-wrap:wrap;\n",
              "      gap: 12px;\n",
              "    }\n",
              "\n",
              "    .colab-df-convert {\n",
              "      background-color: #E8F0FE;\n",
              "      border: none;\n",
              "      border-radius: 50%;\n",
              "      cursor: pointer;\n",
              "      display: none;\n",
              "      fill: #1967D2;\n",
              "      height: 32px;\n",
              "      padding: 0 0 0 0;\n",
              "      width: 32px;\n",
              "    }\n",
              "\n",
              "    .colab-df-convert:hover {\n",
              "      background-color: #E2EBFA;\n",
              "      box-shadow: 0px 1px 2px rgba(60, 64, 67, 0.3), 0px 1px 3px 1px rgba(60, 64, 67, 0.15);\n",
              "      fill: #174EA6;\n",
              "    }\n",
              "\n",
              "    [theme=dark] .colab-df-convert {\n",
              "      background-color: #3B4455;\n",
              "      fill: #D2E3FC;\n",
              "    }\n",
              "\n",
              "    [theme=dark] .colab-df-convert:hover {\n",
              "      background-color: #434B5C;\n",
              "      box-shadow: 0px 1px 3px 1px rgba(0, 0, 0, 0.15);\n",
              "      filter: drop-shadow(0px 1px 2px rgba(0, 0, 0, 0.3));\n",
              "      fill: #FFFFFF;\n",
              "    }\n",
              "  </style>\n",
              "\n",
              "      <script>\n",
              "        const buttonEl =\n",
              "          document.querySelector('#df-4e3874ec-b5a1-46e2-9af7-60deedb20f70 button.colab-df-convert');\n",
              "        buttonEl.style.display =\n",
              "          google.colab.kernel.accessAllowed ? 'block' : 'none';\n",
              "\n",
              "        async function convertToInteractive(key) {\n",
              "          const element = document.querySelector('#df-4e3874ec-b5a1-46e2-9af7-60deedb20f70');\n",
              "          const dataTable =\n",
              "            await google.colab.kernel.invokeFunction('convertToInteractive',\n",
              "                                                     [key], {});\n",
              "          if (!dataTable) return;\n",
              "\n",
              "          const docLinkHtml = 'Like what you see? Visit the ' +\n",
              "            '<a target=\"_blank\" href=https://colab.research.google.com/notebooks/data_table.ipynb>data table notebook</a>'\n",
              "            + ' to learn more about interactive tables.';\n",
              "          element.innerHTML = '';\n",
              "          dataTable['output_type'] = 'display_data';\n",
              "          await google.colab.output.renderOutput(dataTable, element);\n",
              "          const docLink = document.createElement('div');\n",
              "          docLink.innerHTML = docLinkHtml;\n",
              "          element.appendChild(docLink);\n",
              "        }\n",
              "      </script>\n",
              "    </div>\n",
              "  </div>\n",
              "  "
            ],
            "text/plain": [
              "   id   RSC    PI   KR    MH    Na  SAR   SSP    EC  IWQI  USABLE\n",
              "0   1  0.12  59.2  0.5  39.8  33.6  1.8  33.3  1045   NaN     NaN\n",
              "1   2 -0.21  58.9  0.3  54.8  25.6  1.0  25.1   645   NaN     NaN\n",
              "2   3 -1.28  72.2  1.2  35.0  53.8  3.5  53.7   998   NaN     NaN\n",
              "3   4 -0.20  55.2  0.5  25.2  34.7  2.3  34.4  1516   NaN     NaN\n",
              "4   5 -0.33  62.5  0.4  43.8  31.1  1.3  30.8   658   NaN     NaN\n",
              "5   6  0.43  66.0  0.6  52.0  38.2  2.0  37.8   875   NaN     NaN\n",
              "6   7 -2.64  63.6  0.9  42.0  47.7  3.1  47.6  1153   NaN     NaN\n",
              "7   8  0.68  69.6  0.6  32.6  36.2  1.6  35.9   676   NaN     NaN\n",
              "8   9 -0.48  58.7  0.4  37.9  30.7  1.4  30.3   817   NaN     NaN\n",
              "9  10  0.04  60.9  0.5  48.4  32.5  1.6  31.9   848   NaN     NaN"
            ]
          },
          "metadata": {},
          "execution_count": 3
        }
      ]
    },
    {
      "cell_type": "code",
      "execution_count": null,
      "metadata": {
        "colab": {
          "base_uri": "https://localhost:8080/"
        },
        "id": "NK1M1-ZadwCj",
        "outputId": "045c5739-1f33-4d7c-abde-3622336b34be"
      },
      "outputs": [
        {
          "output_type": "execute_result",
          "data": {
            "text/plain": [
              "(643, 14)"
            ]
          },
          "metadata": {},
          "execution_count": 32
        }
      ],
      "source": [
        "df.shape"
      ]
    },
    {
      "cell_type": "code",
      "source": [
        "dfa.shape"
      ],
      "metadata": {
        "colab": {
          "base_uri": "https://localhost:8080/"
        },
        "id": "7wcdN7oejR10",
        "outputId": "1e67eb99-6ae9-40df-b562-f20d67d27e94"
      },
      "execution_count": null,
      "outputs": [
        {
          "output_type": "execute_result",
          "data": {
            "text/plain": [
              "(356, 11)"
            ]
          },
          "metadata": {},
          "execution_count": 33
        }
      ]
    },
    {
      "cell_type": "code",
      "execution_count": null,
      "metadata": {
        "id": "yY0i3-J9dwCk"
      },
      "outputs": [],
      "source": [
        "df.isnull().sum()"
      ]
    },
    {
      "cell_type": "code",
      "execution_count": null,
      "metadata": {
        "id": "v-_n9hgNdwCl",
        "colab": {
          "base_uri": "https://localhost:8080/"
        },
        "outputId": "bb37d1cb-c494-43e0-bb52-44c5292410b5"
      },
      "outputs": [
        {
          "output_type": "stream",
          "name": "stdout",
          "text": [
            "<class 'pandas.core.frame.DataFrame'>\n",
            "RangeIndex: 356 entries, 0 to 355\n",
            "Data columns (total 11 columns):\n",
            " #   Column  Non-Null Count  Dtype  \n",
            "---  ------  --------------  -----  \n",
            " 0   id      356 non-null    int64  \n",
            " 1   RSC     356 non-null    float64\n",
            " 2   PI      356 non-null    float64\n",
            " 3   KR      356 non-null    float64\n",
            " 4   MH      356 non-null    float64\n",
            " 5   Na      356 non-null    float64\n",
            " 6   SAR     356 non-null    float64\n",
            " 7   SSP     356 non-null    float64\n",
            " 8   EC      356 non-null    int64  \n",
            " 9   IWQI    0 non-null      float64\n",
            " 10  USABLE  0 non-null      float64\n",
            "dtypes: float64(9), int64(2)\n",
            "memory usage: 30.7 KB\n"
          ]
        }
      ],
      "source": [
        "dfa.info()"
      ]
    },
    {
      "cell_type": "code",
      "execution_count": null,
      "metadata": {
        "id": "q2kKlm7ldwCl",
        "colab": {
          "base_uri": "https://localhost:8080/",
          "height": 300
        },
        "outputId": "e21d948d-73f3-4a1b-d22c-67f52443dea2"
      },
      "outputs": [
        {
          "output_type": "execute_result",
          "data": {
            "text/html": [
              "\n",
              "  <div id=\"df-8b8b357b-9e56-4d92-b246-56c4030a09d8\">\n",
              "    <div class=\"colab-df-container\">\n",
              "      <div>\n",
              "<style scoped>\n",
              "    .dataframe tbody tr th:only-of-type {\n",
              "        vertical-align: middle;\n",
              "    }\n",
              "\n",
              "    .dataframe tbody tr th {\n",
              "        vertical-align: top;\n",
              "    }\n",
              "\n",
              "    .dataframe thead th {\n",
              "        text-align: right;\n",
              "    }\n",
              "</style>\n",
              "<table border=\"1\" class=\"dataframe\">\n",
              "  <thead>\n",
              "    <tr style=\"text-align: right;\">\n",
              "      <th></th>\n",
              "      <th>id</th>\n",
              "      <th>RSC</th>\n",
              "      <th>PI</th>\n",
              "      <th>KR</th>\n",
              "      <th>MH</th>\n",
              "      <th>Na</th>\n",
              "      <th>SAR</th>\n",
              "      <th>SSP</th>\n",
              "      <th>EC</th>\n",
              "      <th>IWQI</th>\n",
              "      <th>USABLE</th>\n",
              "    </tr>\n",
              "  </thead>\n",
              "  <tbody>\n",
              "    <tr>\n",
              "      <th>count</th>\n",
              "      <td>356.000000</td>\n",
              "      <td>356.000000</td>\n",
              "      <td>356.000000</td>\n",
              "      <td>356.000000</td>\n",
              "      <td>356.000000</td>\n",
              "      <td>356.000000</td>\n",
              "      <td>356.000000</td>\n",
              "      <td>356.000000</td>\n",
              "      <td>356.000000</td>\n",
              "      <td>0.0</td>\n",
              "      <td>0.0</td>\n",
              "    </tr>\n",
              "    <tr>\n",
              "      <th>mean</th>\n",
              "      <td>178.500000</td>\n",
              "      <td>-3.064242</td>\n",
              "      <td>37.680056</td>\n",
              "      <td>0.643820</td>\n",
              "      <td>44.016011</td>\n",
              "      <td>40.891854</td>\n",
              "      <td>7.136236</td>\n",
              "      <td>34.762360</td>\n",
              "      <td>1810.786517</td>\n",
              "      <td>NaN</td>\n",
              "      <td>NaN</td>\n",
              "    </tr>\n",
              "    <tr>\n",
              "      <th>std</th>\n",
              "      <td>102.912584</td>\n",
              "      <td>7.917975</td>\n",
              "      <td>26.375834</td>\n",
              "      <td>0.606204</td>\n",
              "      <td>13.662433</td>\n",
              "      <td>23.917930</td>\n",
              "      <td>10.453207</td>\n",
              "      <td>19.607348</td>\n",
              "      <td>2480.481842</td>\n",
              "      <td>NaN</td>\n",
              "      <td>NaN</td>\n",
              "    </tr>\n",
              "    <tr>\n",
              "      <th>min</th>\n",
              "      <td>1.000000</td>\n",
              "      <td>-76.220000</td>\n",
              "      <td>0.200000</td>\n",
              "      <td>0.000000</td>\n",
              "      <td>16.900000</td>\n",
              "      <td>1.500000</td>\n",
              "      <td>0.000000</td>\n",
              "      <td>1.500000</td>\n",
              "      <td>320.000000</td>\n",
              "      <td>NaN</td>\n",
              "      <td>NaN</td>\n",
              "    </tr>\n",
              "    <tr>\n",
              "      <th>25%</th>\n",
              "      <td>89.750000</td>\n",
              "      <td>-3.525000</td>\n",
              "      <td>0.700000</td>\n",
              "      <td>0.200000</td>\n",
              "      <td>33.875000</td>\n",
              "      <td>23.950000</td>\n",
              "      <td>1.075000</td>\n",
              "      <td>21.450000</td>\n",
              "      <td>584.000000</td>\n",
              "      <td>NaN</td>\n",
              "      <td>NaN</td>\n",
              "    </tr>\n",
              "    <tr>\n",
              "      <th>50%</th>\n",
              "      <td>178.500000</td>\n",
              "      <td>-0.500000</td>\n",
              "      <td>43.600000</td>\n",
              "      <td>0.500000</td>\n",
              "      <td>43.700000</td>\n",
              "      <td>40.050000</td>\n",
              "      <td>2.550000</td>\n",
              "      <td>34.600000</td>\n",
              "      <td>1020.000000</td>\n",
              "      <td>NaN</td>\n",
              "      <td>NaN</td>\n",
              "    </tr>\n",
              "    <tr>\n",
              "      <th>75%</th>\n",
              "      <td>267.250000</td>\n",
              "      <td>0.000000</td>\n",
              "      <td>56.875000</td>\n",
              "      <td>0.900000</td>\n",
              "      <td>53.425000</td>\n",
              "      <td>59.725000</td>\n",
              "      <td>8.900000</td>\n",
              "      <td>48.725000</td>\n",
              "      <td>1615.000000</td>\n",
              "      <td>NaN</td>\n",
              "      <td>NaN</td>\n",
              "    </tr>\n",
              "    <tr>\n",
              "      <th>max</th>\n",
              "      <td>356.000000</td>\n",
              "      <td>3.660000</td>\n",
              "      <td>89.700000</td>\n",
              "      <td>3.700000</td>\n",
              "      <td>83.200000</td>\n",
              "      <td>89.400000</td>\n",
              "      <td>63.700000</td>\n",
              "      <td>83.300000</td>\n",
              "      <td>20084.000000</td>\n",
              "      <td>NaN</td>\n",
              "      <td>NaN</td>\n",
              "    </tr>\n",
              "  </tbody>\n",
              "</table>\n",
              "</div>\n",
              "      <button class=\"colab-df-convert\" onclick=\"convertToInteractive('df-8b8b357b-9e56-4d92-b246-56c4030a09d8')\"\n",
              "              title=\"Convert this dataframe to an interactive table.\"\n",
              "              style=\"display:none;\">\n",
              "        \n",
              "  <svg xmlns=\"http://www.w3.org/2000/svg\" height=\"24px\"viewBox=\"0 0 24 24\"\n",
              "       width=\"24px\">\n",
              "    <path d=\"M0 0h24v24H0V0z\" fill=\"none\"/>\n",
              "    <path d=\"M18.56 5.44l.94 2.06.94-2.06 2.06-.94-2.06-.94-.94-2.06-.94 2.06-2.06.94zm-11 1L8.5 8.5l.94-2.06 2.06-.94-2.06-.94L8.5 2.5l-.94 2.06-2.06.94zm10 10l.94 2.06.94-2.06 2.06-.94-2.06-.94-.94-2.06-.94 2.06-2.06.94z\"/><path d=\"M17.41 7.96l-1.37-1.37c-.4-.4-.92-.59-1.43-.59-.52 0-1.04.2-1.43.59L10.3 9.45l-7.72 7.72c-.78.78-.78 2.05 0 2.83L4 21.41c.39.39.9.59 1.41.59.51 0 1.02-.2 1.41-.59l7.78-7.78 2.81-2.81c.8-.78.8-2.07 0-2.86zM5.41 20L4 18.59l7.72-7.72 1.47 1.35L5.41 20z\"/>\n",
              "  </svg>\n",
              "      </button>\n",
              "      \n",
              "  <style>\n",
              "    .colab-df-container {\n",
              "      display:flex;\n",
              "      flex-wrap:wrap;\n",
              "      gap: 12px;\n",
              "    }\n",
              "\n",
              "    .colab-df-convert {\n",
              "      background-color: #E8F0FE;\n",
              "      border: none;\n",
              "      border-radius: 50%;\n",
              "      cursor: pointer;\n",
              "      display: none;\n",
              "      fill: #1967D2;\n",
              "      height: 32px;\n",
              "      padding: 0 0 0 0;\n",
              "      width: 32px;\n",
              "    }\n",
              "\n",
              "    .colab-df-convert:hover {\n",
              "      background-color: #E2EBFA;\n",
              "      box-shadow: 0px 1px 2px rgba(60, 64, 67, 0.3), 0px 1px 3px 1px rgba(60, 64, 67, 0.15);\n",
              "      fill: #174EA6;\n",
              "    }\n",
              "\n",
              "    [theme=dark] .colab-df-convert {\n",
              "      background-color: #3B4455;\n",
              "      fill: #D2E3FC;\n",
              "    }\n",
              "\n",
              "    [theme=dark] .colab-df-convert:hover {\n",
              "      background-color: #434B5C;\n",
              "      box-shadow: 0px 1px 3px 1px rgba(0, 0, 0, 0.15);\n",
              "      filter: drop-shadow(0px 1px 2px rgba(0, 0, 0, 0.3));\n",
              "      fill: #FFFFFF;\n",
              "    }\n",
              "  </style>\n",
              "\n",
              "      <script>\n",
              "        const buttonEl =\n",
              "          document.querySelector('#df-8b8b357b-9e56-4d92-b246-56c4030a09d8 button.colab-df-convert');\n",
              "        buttonEl.style.display =\n",
              "          google.colab.kernel.accessAllowed ? 'block' : 'none';\n",
              "\n",
              "        async function convertToInteractive(key) {\n",
              "          const element = document.querySelector('#df-8b8b357b-9e56-4d92-b246-56c4030a09d8');\n",
              "          const dataTable =\n",
              "            await google.colab.kernel.invokeFunction('convertToInteractive',\n",
              "                                                     [key], {});\n",
              "          if (!dataTable) return;\n",
              "\n",
              "          const docLinkHtml = 'Like what you see? Visit the ' +\n",
              "            '<a target=\"_blank\" href=https://colab.research.google.com/notebooks/data_table.ipynb>data table notebook</a>'\n",
              "            + ' to learn more about interactive tables.';\n",
              "          element.innerHTML = '';\n",
              "          dataTable['output_type'] = 'display_data';\n",
              "          await google.colab.output.renderOutput(dataTable, element);\n",
              "          const docLink = document.createElement('div');\n",
              "          docLink.innerHTML = docLinkHtml;\n",
              "          element.appendChild(docLink);\n",
              "        }\n",
              "      </script>\n",
              "    </div>\n",
              "  </div>\n",
              "  "
            ],
            "text/plain": [
              "               id         RSC          PI  ...            EC  IWQI  USABLE\n",
              "count  356.000000  356.000000  356.000000  ...    356.000000   0.0     0.0\n",
              "mean   178.500000   -3.064242   37.680056  ...   1810.786517   NaN     NaN\n",
              "std    102.912584    7.917975   26.375834  ...   2480.481842   NaN     NaN\n",
              "min      1.000000  -76.220000    0.200000  ...    320.000000   NaN     NaN\n",
              "25%     89.750000   -3.525000    0.700000  ...    584.000000   NaN     NaN\n",
              "50%    178.500000   -0.500000   43.600000  ...   1020.000000   NaN     NaN\n",
              "75%    267.250000    0.000000   56.875000  ...   1615.000000   NaN     NaN\n",
              "max    356.000000    3.660000   89.700000  ...  20084.000000   NaN     NaN\n",
              "\n",
              "[8 rows x 11 columns]"
            ]
          },
          "metadata": {},
          "execution_count": 11
        }
      ],
      "source": [
        "dfa.describe()"
      ]
    },
    {
      "cell_type": "markdown",
      "source": [
        "# Custom Dataset"
      ],
      "metadata": {
        "id": "x7jLN2N4ij9I"
      }
    },
    {
      "cell_type": "markdown",
      "source": [
        "## Data Prep"
      ],
      "metadata": {
        "id": "bAOj5hieKBHb"
      }
    },
    {
      "cell_type": "code",
      "source": [
        "#labelling script\n",
        "def calculateWQI (row, thresh, weights = None):\n",
        "  qi = []\n",
        "  wqi = 0\n",
        "\n",
        "  if (len(row) == len(thresh)) and (weights == None):\n",
        "    #apply equal weights\n",
        "    wi = 1\n",
        "    rw = wi/len(row) #assuming a weight of 1 is given to each parameter\n",
        "    tw = len(row) #same as sum rw\n",
        "    for r in range(len(row)):\n",
        "      qi.append(row[r] / thresh[r] * 100)\n",
        "      wqi += (rw * qi[r])\n",
        "    #print (\"Row = {0}, WQI = {1}\".format(row, wqi))\n",
        "  else:\n",
        "    if len(row) != len(weights) != len(thresh):\n",
        "      return \"ERROR\"\n",
        "    else:\n",
        "      #apply different weights\n",
        "      rw = []\n",
        "      for r in range(len(row)):\n",
        "        rw.append(weights[r]/sum(weights))\n",
        "        qi.append(row[r] / thresh[r] * 100)\n",
        "        wqi += (rw[r] * qi[r])\n",
        "  return wqi\n",
        "\n",
        "def setThresholds_Drinking():\n",
        "  #pH, Sodium, Magnesium,\tCalcium,\tChloride,\tPotassium,\tCO3*****************,\tHCO3,\tSulphate,\tTDS,\tEC,\tTH\n",
        "  return [9.7, 200, 50, 75, 300, 12, 200, 500, 1200, 1700, 300]\n",
        "  #check threshold 4 co3\n",
        "\n",
        "def setThresholds_Agric():\n",
        "  #RSC, PI, KR,\tMH,\tNa%,\tSAR,\tSSP, EC\n",
        "  return [1.25, 70, 1.5, 50, 40, 18, 50, 750]"
      ],
      "metadata": {
        "id": "g_Dm4oxqimlk"
      },
      "execution_count": null,
      "outputs": []
    },
    {
      "cell_type": "code",
      "source": [
        "##########DRINKING WATER#############\n",
        "\n",
        "X = df.copy()\n",
        "thresh = setThresholds_Drinking()\n",
        "\n",
        "#handle all NA first\n",
        "for row in range(len(X)):\n",
        "  wqi = calculateWQI(X.loc[row, [\"pH\", \"Sodium\", \"Magnesium\", \"Calcium\", \"Chloride\", \"Potassium\", \"Carbonate\", \"Sulphate\", \"TDS\", \"EC\", \"TH\"]].values.flatten().tolist(), thresh, None)\n",
        "  if wqi != \"ERROR\" and wqi < 50:\n",
        "    X.at[row, \"WQI\"] = wqi\n",
        "    X.at[row, \"Potability\"] = 1\n",
        "\n",
        "  elif wqi != \"ERROR\" and wqi >= 50:\n",
        "    X.at[row, \"WQI\"] = wqi\n",
        "    X.at[row, \"Potability\"] = 0\n",
        "\n",
        "  else:\n",
        "    print (\"ERROR! Possibly due to lenght mismatch between row, threshold or weights!\")\n",
        "\n",
        "X.to_csv('/content/drive/MyDrive/Projects/2022/WaterResearch/dataset5_drinking2_FILLED.csv', index=False)"
      ],
      "metadata": {
        "id": "GsdPFKNJt3oF"
      },
      "execution_count": null,
      "outputs": []
    },
    {
      "cell_type": "code",
      "source": [
        "X.head(10)"
      ],
      "metadata": {
        "id": "J9J1zLaKSRO7"
      },
      "execution_count": null,
      "outputs": []
    },
    {
      "cell_type": "code",
      "source": [
        "X.Potability.value_counts()"
      ],
      "metadata": {
        "colab": {
          "base_uri": "https://localhost:8080/"
        },
        "id": "CK4VNxGrTQfB",
        "outputId": "240b859e-bfa6-41a0-fa47-be97af0eb593"
      },
      "execution_count": null,
      "outputs": [
        {
          "output_type": "execute_result",
          "data": {
            "text/plain": [
              "1.0    387\n",
              "0.0    256\n",
              "Name: Potability, dtype: int64"
            ]
          },
          "metadata": {},
          "execution_count": 7
        }
      ]
    },
    {
      "cell_type": "code",
      "source": [
        "sns.countplot(X['Potability'])\n",
        "plt.show()"
      ],
      "metadata": {
        "colab": {
          "base_uri": "https://localhost:8080/",
          "height": 335
        },
        "id": "ea4dWyfJTp1J",
        "outputId": "3e6c79e3-9a47-4796-e69e-9cd71fb95bba"
      },
      "execution_count": null,
      "outputs": [
        {
          "output_type": "stream",
          "name": "stderr",
          "text": [
            "/usr/local/lib/python3.7/dist-packages/seaborn/_decorators.py:43: FutureWarning: Pass the following variable as a keyword arg: x. From version 0.12, the only valid positional argument will be `data`, and passing other arguments without an explicit keyword will result in an error or misinterpretation.\n",
            "  FutureWarning\n"
          ]
        },
        {
          "output_type": "display_data",
          "data": {
            "image/png": "[encoded data removed]",
            "text/plain": [
              "<Figure size 432x288 with 1 Axes>"
            ]
          },
          "metadata": {
            "needs_background": "light"
          }
        }
      ]
    },
    {
      "cell_type": "code",
      "source": [
        "###########IRRIGATION WATER\n",
        "A = dfa.copy()\n",
        "thresh = setThresholds_Agric()\n",
        "\n",
        "#handle all NA first\n",
        "for row in range(len(A)):\n",
        "  iwqi = calculateWQI(A.loc[row, ['RSC', 'PI', 'KR', 'MH', 'Na', 'SAR', 'SSP', 'EC']].values.flatten().tolist(), thresh, None)\n",
        "  if iwqi != \"ERROR\" and iwqi >= 50:\n",
        "    A.at[row, \"IWQI\"] = iwqi\n",
        "    A.at[row, \"USABLE\"] = 1\n",
        "\n",
        "  elif iwqi != \"ERROR\" and iwqi < 50:\n",
        "    A.at[row, \"IWQI\"] = iwqi\n",
        "    A.at[row, \"USABLE\"] = 0\n",
        "\n",
        "  else:\n",
        "    print (\"ERROR! Possibly due to lenght mismatch between row, threshold or weights!\")\n",
        "\n",
        "#write CSV to file\n",
        "A.to_csv('/content/drive/MyDrive/Projects/2022/WaterResearch/dataset5_Agric_FILLED.csv', index=False)\n"
      ],
      "metadata": {
        "id": "ZUVTC9sUBxnG"
      },
      "execution_count": null,
      "outputs": []
    },
    {
      "cell_type": "code",
      "source": [
        "A.head(10)"
      ],
      "metadata": {
        "colab": {
          "base_uri": "https://localhost:8080/",
          "height": 363
        },
        "id": "cEF1B-7Sqffq",
        "outputId": "ea4470c6-5e63-41cb-91fc-509902e96e1a"
      },
      "execution_count": null,
      "outputs": [
        {
          "output_type": "execute_result",
          "data": {
            "text/html": [
              "\n",
              "  <div id=\"df-76e07466-39c5-4077-b621-43a9ac49a2c5\">\n",
              "    <div class=\"colab-df-container\">\n",
              "      <div>\n",
              "<style scoped>\n",
              "    .dataframe tbody tr th:only-of-type {\n",
              "        vertical-align: middle;\n",
              "    }\n",
              "\n",
              "    .dataframe tbody tr th {\n",
              "        vertical-align: top;\n",
              "    }\n",
              "\n",
              "    .dataframe thead th {\n",
              "        text-align: right;\n",
              "    }\n",
              "</style>\n",
              "<table border=\"1\" class=\"dataframe\">\n",
              "  <thead>\n",
              "    <tr style=\"text-align: right;\">\n",
              "      <th></th>\n",
              "      <th>id</th>\n",
              "      <th>RSC</th>\n",
              "      <th>PI</th>\n",
              "      <th>KR</th>\n",
              "      <th>MH</th>\n",
              "      <th>Na</th>\n",
              "      <th>SAR</th>\n",
              "      <th>SSP</th>\n",
              "      <th>EC</th>\n",
              "      <th>IWQI</th>\n",
              "      <th>USABLE</th>\n",
              "    </tr>\n",
              "  </thead>\n",
              "  <tbody>\n",
              "    <tr>\n",
              "      <th>0</th>\n",
              "      <td>1</td>\n",
              "      <td>0.12</td>\n",
              "      <td>59.2</td>\n",
              "      <td>0.5</td>\n",
              "      <td>39.8</td>\n",
              "      <td>33.6</td>\n",
              "      <td>1.8</td>\n",
              "      <td>33.3</td>\n",
              "      <td>1045</td>\n",
              "      <td>63.379762</td>\n",
              "      <td>1.0</td>\n",
              "    </tr>\n",
              "    <tr>\n",
              "      <th>1</th>\n",
              "      <td>2</td>\n",
              "      <td>-0.21</td>\n",
              "      <td>58.9</td>\n",
              "      <td>0.3</td>\n",
              "      <td>54.8</td>\n",
              "      <td>25.6</td>\n",
              "      <td>1.0</td>\n",
              "      <td>25.1</td>\n",
              "      <td>645</td>\n",
              "      <td>50.337302</td>\n",
              "      <td>1.0</td>\n",
              "    </tr>\n",
              "    <tr>\n",
              "      <th>2</th>\n",
              "      <td>3</td>\n",
              "      <td>-1.28</td>\n",
              "      <td>72.2</td>\n",
              "      <td>1.2</td>\n",
              "      <td>35.0</td>\n",
              "      <td>53.8</td>\n",
              "      <td>3.5</td>\n",
              "      <td>53.7</td>\n",
              "      <td>998</td>\n",
              "      <td>68.144246</td>\n",
              "      <td>1.0</td>\n",
              "    </tr>\n",
              "    <tr>\n",
              "      <th>3</th>\n",
              "      <td>4</td>\n",
              "      <td>-0.20</td>\n",
              "      <td>55.2</td>\n",
              "      <td>0.5</td>\n",
              "      <td>25.2</td>\n",
              "      <td>34.7</td>\n",
              "      <td>2.3</td>\n",
              "      <td>34.4</td>\n",
              "      <td>1516</td>\n",
              "      <td>64.631448</td>\n",
              "      <td>1.0</td>\n",
              "    </tr>\n",
              "    <tr>\n",
              "      <th>4</th>\n",
              "      <td>5</td>\n",
              "      <td>-0.33</td>\n",
              "      <td>62.5</td>\n",
              "      <td>0.4</td>\n",
              "      <td>43.8</td>\n",
              "      <td>31.1</td>\n",
              "      <td>1.3</td>\n",
              "      <td>30.8</td>\n",
              "      <td>658</td>\n",
              "      <td>51.432242</td>\n",
              "      <td>1.0</td>\n",
              "    </tr>\n",
              "    <tr>\n",
              "      <th>5</th>\n",
              "      <td>6</td>\n",
              "      <td>0.43</td>\n",
              "      <td>66.0</td>\n",
              "      <td>0.6</td>\n",
              "      <td>52.0</td>\n",
              "      <td>38.2</td>\n",
              "      <td>2.0</td>\n",
              "      <td>37.8</td>\n",
              "      <td>875</td>\n",
              "      <td>71.445437</td>\n",
              "      <td>1.0</td>\n",
              "    </tr>\n",
              "    <tr>\n",
              "      <th>6</th>\n",
              "      <td>7</td>\n",
              "      <td>-2.64</td>\n",
              "      <td>63.6</td>\n",
              "      <td>0.9</td>\n",
              "      <td>42.0</td>\n",
              "      <td>47.7</td>\n",
              "      <td>3.1</td>\n",
              "      <td>47.6</td>\n",
              "      <td>1153</td>\n",
              "      <td>51.132837</td>\n",
              "      <td>1.0</td>\n",
              "    </tr>\n",
              "    <tr>\n",
              "      <th>7</th>\n",
              "      <td>8</td>\n",
              "      <td>0.68</td>\n",
              "      <td>69.6</td>\n",
              "      <td>0.6</td>\n",
              "      <td>32.6</td>\n",
              "      <td>36.2</td>\n",
              "      <td>1.6</td>\n",
              "      <td>35.9</td>\n",
              "      <td>676</td>\n",
              "      <td>65.043849</td>\n",
              "      <td>1.0</td>\n",
              "    </tr>\n",
              "    <tr>\n",
              "      <th>8</th>\n",
              "      <td>9</td>\n",
              "      <td>-0.48</td>\n",
              "      <td>58.7</td>\n",
              "      <td>0.4</td>\n",
              "      <td>37.9</td>\n",
              "      <td>30.7</td>\n",
              "      <td>1.4</td>\n",
              "      <td>30.3</td>\n",
              "      <td>817</td>\n",
              "      <td>50.248115</td>\n",
              "      <td>1.0</td>\n",
              "    </tr>\n",
              "    <tr>\n",
              "      <th>9</th>\n",
              "      <td>10</td>\n",
              "      <td>0.04</td>\n",
              "      <td>60.9</td>\n",
              "      <td>0.5</td>\n",
              "      <td>48.4</td>\n",
              "      <td>32.5</td>\n",
              "      <td>1.6</td>\n",
              "      <td>31.9</td>\n",
              "      <td>848</td>\n",
              "      <td>60.917361</td>\n",
              "      <td>1.0</td>\n",
              "    </tr>\n",
              "  </tbody>\n",
              "</table>\n",
              "</div>\n",
              "      <button class=\"colab-df-convert\" onclick=\"convertToInteractive('df-76e07466-39c5-4077-b621-43a9ac49a2c5')\"\n",
              "              title=\"Convert this dataframe to an interactive table.\"\n",
              "              style=\"display:none;\">\n",
              "        \n",
              "  <svg xmlns=\"http://www.w3.org/2000/svg\" height=\"24px\"viewBox=\"0 0 24 24\"\n",
              "       width=\"24px\">\n",
              "    <path d=\"M0 0h24v24H0V0z\" fill=\"none\"/>\n",
              "    <path d=\"M18.56 5.44l.94 2.06.94-2.06 2.06-.94-2.06-.94-.94-2.06-.94 2.06-2.06.94zm-11 1L8.5 8.5l.94-2.06 2.06-.94-2.06-.94L8.5 2.5l-.94 2.06-2.06.94zm10 10l.94 2.06.94-2.06 2.06-.94-2.06-.94-.94-2.06-.94 2.06-2.06.94z\"/><path d=\"M17.41 7.96l-1.37-1.37c-.4-.4-.92-.59-1.43-.59-.52 0-1.04.2-1.43.59L10.3 9.45l-7.72 7.72c-.78.78-.78 2.05 0 2.83L4 21.41c.39.39.9.59 1.41.59.51 0 1.02-.2 1.41-.59l7.78-7.78 2.81-2.81c.8-.78.8-2.07 0-2.86zM5.41 20L4 18.59l7.72-7.72 1.47 1.35L5.41 20z\"/>\n",
              "  </svg>\n",
              "      </button>\n",
              "      \n",
              "  <style>\n",
              "    .colab-df-container {\n",
              "      display:flex;\n",
              "      flex-wrap:wrap;\n",
              "      gap: 12px;\n",
              "    }\n",
              "\n",
              "    .colab-df-convert {\n",
              "      background-color: #E8F0FE;\n",
              "      border: none;\n",
              "      border-radius: 50%;\n",
              "      cursor: pointer;\n",
              "      display: none;\n",
              "      fill: #1967D2;\n",
              "      height: 32px;\n",
              "      padding: 0 0 0 0;\n",
              "      width: 32px;\n",
              "    }\n",
              "\n",
              "    .colab-df-convert:hover {\n",
              "      background-color: #E2EBFA;\n",
              "      box-shadow: 0px 1px 2px rgba(60, 64, 67, 0.3), 0px 1px 3px 1px rgba(60, 64, 67, 0.15);\n",
              "      fill: #174EA6;\n",
              "    }\n",
              "\n",
              "    [theme=dark] .colab-df-convert {\n",
              "      background-color: #3B4455;\n",
              "      fill: #D2E3FC;\n",
              "    }\n",
              "\n",
              "    [theme=dark] .colab-df-convert:hover {\n",
              "      background-color: #434B5C;\n",
              "      box-shadow: 0px 1px 3px 1px rgba(0, 0, 0, 0.15);\n",
              "      filter: drop-shadow(0px 1px 2px rgba(0, 0, 0, 0.3));\n",
              "      fill: #FFFFFF;\n",
              "    }\n",
              "  </style>\n",
              "\n",
              "      <script>\n",
              "        const buttonEl =\n",
              "          document.querySelector('#df-76e07466-39c5-4077-b621-43a9ac49a2c5 button.colab-df-convert');\n",
              "        buttonEl.style.display =\n",
              "          google.colab.kernel.accessAllowed ? 'block' : 'none';\n",
              "\n",
              "        async function convertToInteractive(key) {\n",
              "          const element = document.querySelector('#df-76e07466-39c5-4077-b621-43a9ac49a2c5');\n",
              "          const dataTable =\n",
              "            await google.colab.kernel.invokeFunction('convertToInteractive',\n",
              "                                                     [key], {});\n",
              "          if (!dataTable) return;\n",
              "\n",
              "          const docLinkHtml = 'Like what you see? Visit the ' +\n",
              "            '<a target=\"_blank\" href=https://colab.research.google.com/notebooks/data_table.ipynb>data table notebook</a>'\n",
              "            + ' to learn more about interactive tables.';\n",
              "          element.innerHTML = '';\n",
              "          dataTable['output_type'] = 'display_data';\n",
              "          await google.colab.output.renderOutput(dataTable, element);\n",
              "          const docLink = document.createElement('div');\n",
              "          docLink.innerHTML = docLinkHtml;\n",
              "          element.appendChild(docLink);\n",
              "        }\n",
              "      </script>\n",
              "    </div>\n",
              "  </div>\n",
              "  "
            ],
            "text/plain": [
              "   id   RSC    PI   KR    MH    Na  SAR   SSP    EC       IWQI  USABLE\n",
              "0   1  0.12  59.2  0.5  39.8  33.6  1.8  33.3  1045  63.379762     1.0\n",
              "1   2 -0.21  58.9  0.3  54.8  25.6  1.0  25.1   645  50.337302     1.0\n",
              "2   3 -1.28  72.2  1.2  35.0  53.8  3.5  53.7   998  68.144246     1.0\n",
              "3   4 -0.20  55.2  0.5  25.2  34.7  2.3  34.4  1516  64.631448     1.0\n",
              "4   5 -0.33  62.5  0.4  43.8  31.1  1.3  30.8   658  51.432242     1.0\n",
              "5   6  0.43  66.0  0.6  52.0  38.2  2.0  37.8   875  71.445437     1.0\n",
              "6   7 -2.64  63.6  0.9  42.0  47.7  3.1  47.6  1153  51.132837     1.0\n",
              "7   8  0.68  69.6  0.6  32.6  36.2  1.6  35.9   676  65.043849     1.0\n",
              "8   9 -0.48  58.7  0.4  37.9  30.7  1.4  30.3   817  50.248115     1.0\n",
              "9  10  0.04  60.9  0.5  48.4  32.5  1.6  31.9   848  60.917361     1.0"
            ]
          },
          "metadata": {},
          "execution_count": 6
        }
      ]
    },
    {
      "cell_type": "code",
      "source": [
        "A.USABLE.value_counts()"
      ],
      "metadata": {
        "colab": {
          "base_uri": "https://localhost:8080/"
        },
        "id": "-SEGyPVRqkTM",
        "outputId": "8124f1d5-32c1-4165-d62e-d8d4930d7fd6"
      },
      "execution_count": null,
      "outputs": [
        {
          "output_type": "execute_result",
          "data": {
            "text/plain": [
              "0.0    182\n",
              "1.0    174\n",
              "Name: USABLE, dtype: int64"
            ]
          },
          "metadata": {},
          "execution_count": 7
        }
      ]
    },
    {
      "cell_type": "markdown",
      "source": [
        "#Data Visualization"
      ],
      "metadata": {
        "id": "jpAPSLlTQCEy"
      }
    },
    {
      "cell_type": "code",
      "source": [
        "#convert True/False to 0/1 - Yes reversed True means they might b a problem with the water, hence not safe - 0\n",
        "# false means - no problem - hence safe\n",
        "df.Potability = df.Potability.replace({True: 0, False: 1})"
      ],
      "metadata": {
        "id": "58mu-AqOU2fO"
      },
      "execution_count": null,
      "outputs": []
    },
    {
      "cell_type": "code",
      "source": [
        "df.isnull().sum()"
      ],
      "metadata": {
        "id": "LmJzYfbLVS_8"
      },
      "execution_count": null,
      "outputs": []
    },
    {
      "cell_type": "code",
      "source": [
        "#deal with Nulls\n",
        "\n",
        "df.fillna(df.mean(), inplace=True)\n",
        "df.isnull().sum()\n",
        "\n",
        "###############Changed from fillna() to dropna() - 10/01/2022\n",
        "#df = df.dropna(subset = ['ph', 'Hardness', 'Solids', 'Chloramines', 'Sulfate', 'Conductivity', 'Organic_carbon', 'Trihalomethanes', 'Turbidity'])\n",
        "#df.isnull().sum()"
      ],
      "metadata": {
        "id": "yMc0ukkJ3SlO"
      },
      "execution_count": null,
      "outputs": []
    },
    {
      "cell_type": "code",
      "source": [
        "df.head()"
      ],
      "metadata": {
        "id": "GbIvBS6-9oau"
      },
      "execution_count": null,
      "outputs": []
    },
    {
      "cell_type": "code",
      "execution_count": null,
      "metadata": {
        "colab": {
          "base_uri": "https://localhost:8080/"
        },
        "id": "qHtgCw8JdwCn",
        "outputId": "82cea218-b5d3-47a0-e7b7-a7f7317e2f6f"
      },
      "outputs": [
        {
          "output_type": "execute_result",
          "data": {
            "text/plain": [
              "1    137840\n",
              "0      1726\n",
              "Name: Potability, dtype: int64"
            ]
          },
          "metadata": {},
          "execution_count": 12
        }
      ],
      "source": [
        "df.Potability.value_counts()"
      ]
    },
    {
      "cell_type": "code",
      "execution_count": null,
      "metadata": {
        "id": "Q3fXV0pxdwCo"
      },
      "outputs": [],
      "source": [
        "sns.countplot(df['Potability'])\n",
        "plt.show()"
      ]
    },
    {
      "cell_type": "code",
      "execution_count": null,
      "metadata": {
        "colab": {
          "base_uri": "https://localhost:8080/",
          "height": 334
        },
        "id": "t60BHS15dwCo",
        "outputId": "b5825962-86f4-426f-b5f1-3edf6fec79c4"
      },
      "outputs": [
        {
          "output_type": "stream",
          "name": "stderr",
          "text": [
            "/usr/local/lib/python3.7/dist-packages/seaborn/distributions.py:2619: FutureWarning: `distplot` is a deprecated function and will be removed in a future version. Please adapt your code to use either `displot` (a figure-level function with similar flexibility) or `histplot` (an axes-level function for histograms).\n",
            "  warnings.warn(msg, FutureWarning)\n"
          ]
        },
        {
          "output_type": "display_data",
          "data": {
            "image/png": "[encoded data removed]",
            "text/plain": [
              "<Figure size 432x288 with 1 Axes>"
            ]
          },
          "metadata": {
            "needs_background": "light"
          }
        }
      ],
      "source": [
        "sns.distplot(df['pH'])\n",
        "plt.show()"
      ]
    },
    {
      "cell_type": "code",
      "execution_count": null,
      "metadata": {
        "id": "zGiZZjOmdwCp",
        "colab": {
          "base_uri": "https://localhost:8080/",
          "height": 825
        },
        "outputId": "aace13e1-e9da-4a62-e03f-abd35a04fd3c"
      },
      "outputs": [
        {
          "output_type": "display_data",
          "data": {
            "image/png": "[encoded data removed]",
            "text/plain": [
              "<Figure size 1008x1008 with 12 Axes>"
            ]
          },
          "metadata": {
            "needs_background": "light"
          }
        }
      ],
      "source": [
        "#df.hist(figsize=(14,14))\n",
        "A.hist(figsize=(14,14))\n",
        "plt.show()"
      ]
    },
    {
      "cell_type": "code",
      "source": [
        "#sns.distplot(df['WQI'])\n",
        "#plt.show()\n",
        "\n",
        "sns.distplot(A['IWQI'])\n",
        "plt.xlim(-200, 200)"
      ],
      "metadata": {
        "colab": {
          "base_uri": "https://localhost:8080/",
          "height": 351
        },
        "id": "ds7mRN9YQeD4",
        "outputId": "1d0220a1-0f7c-4f89-df2f-6d08f2e61109"
      },
      "execution_count": null,
      "outputs": [
        {
          "output_type": "stream",
          "name": "stderr",
          "text": [
            "/usr/local/lib/python3.7/dist-packages/seaborn/distributions.py:2619: FutureWarning: `distplot` is a deprecated function and will be removed in a future version. Please adapt your code to use either `displot` (a figure-level function with similar flexibility) or `histplot` (an axes-level function for histograms).\n",
            "  warnings.warn(msg, FutureWarning)\n"
          ]
        },
        {
          "output_type": "execute_result",
          "data": {
            "text/plain": [
              "(-200.0, 200.0)"
            ]
          },
          "metadata": {},
          "execution_count": 8
        },
        {
          "output_type": "display_data",
          "data": {
            "image/png": "[encoded data removed]",
            "text/plain": [
              "<Figure size 432x288 with 1 Axes>"
            ]
          },
          "metadata": {
            "needs_background": "light"
          }
        }
      ]
    },
    {
      "cell_type": "code",
      "source": [
        "sns.distplot(df['Sulphate'])\n",
        "plt.show()"
      ],
      "metadata": {
        "id": "AaWf4BNRQ5wF"
      },
      "execution_count": null,
      "outputs": []
    },
    {
      "cell_type": "code",
      "execution_count": null,
      "metadata": {
        "id": "iKEKgC_vdwCq"
      },
      "outputs": [],
      "source": [
        "plt.figure(figsize=(13,8))\n",
        "sns.heatmap(df.corr(),annot=True,cmap='terrain')\n",
        "plt.show()"
      ]
    },
    {
      "cell_type": "code",
      "execution_count": null,
      "metadata": {
        "id": "FLBT43rBdwCq"
      },
      "outputs": [],
      "source": [
        "df.boxplot(figsize=(14,7))"
      ]
    },
    {
      "cell_type": "code",
      "source": [
        "df.loc[df.Potability==1].head()"
      ],
      "metadata": {
        "id": "8IQbNqk5Slp0"
      },
      "execution_count": null,
      "outputs": []
    },
    {
      "cell_type": "code",
      "source": [
        "df.loc[df.Potability==0].head()"
      ],
      "metadata": {
        "id": "Fb7kBXjt9Bt8"
      },
      "execution_count": null,
      "outputs": []
    },
    {
      "cell_type": "code",
      "source": [
        "df.loc[df.Chlorine==0.8]"
      ],
      "metadata": {
        "id": "U0JiPUs8_FYn"
      },
      "execution_count": null,
      "outputs": []
    },
    {
      "cell_type": "markdown",
      "source": [
        "# PREDICTION"
      ],
      "metadata": {
        "id": "k0n_5q2dMWUd"
      }
    },
    {
      "cell_type": "markdown",
      "source": [
        "## Predicting Potability using Decision Tree"
      ],
      "metadata": {
        "id": "kaltIPuQMdLF"
      }
    },
    {
      "cell_type": "code",
      "execution_count": null,
      "metadata": {
        "id": "-PPt2sfhdwCq"
      },
      "outputs": [],
      "source": [
        "#X = df.drop(['Time','Temp', 'FlowRate1', 'FlowRate2','Potability'],axis=1)\n",
        "#Y= df['Potability']\n",
        "\n",
        "#X2 = X.drop(['id','WQI','Potability'],axis=1)\n",
        "#Y = X['Potability']\n",
        "\n",
        "A2 = A.drop(['id','IWQI','USABLE'],axis=1)\n",
        "Y = A['USABLE']\n"
      ]
    },
    {
      "cell_type": "code",
      "source": [
        "def split_scale():\n",
        "  #X_train, X_test, Y_train, Y_test = train_test_split(X2,Y, test_size= 0.2, random_state=101,shuffle=True) #random_state = 0, shuffle=False) #\n",
        "  X_train, X_test, Y_train, Y_test = train_test_split(A2,Y, test_size= 0.2, random_state=101,shuffle=True)\n",
        "\n",
        "  sc_X = StandardScaler()\n",
        "  X_train = sc_X.fit_transform(X_train)\n",
        "  X_test = sc_X.transform(X_test)\n",
        "\n",
        "  return X_train, X_test, Y_train, Y_test\n",
        "\n",
        "def split_scale2(Xs):\n",
        "  X_train, X_test, Y_train, Y_test = train_test_split(Xs,Y, test_size= 0.2, random_state=101,shuffle=True) #random_state = 0, shuffle=False) #\n",
        "  sc_X = StandardScaler()\n",
        "  X_train = sc_X.fit_transform(X_train)\n",
        "  X_test = sc_X.transform(X_test)\n",
        "  return X_train, X_test, Y_train, Y_test\n",
        "\n",
        "def printResult(prediction, y_test):\n",
        "  from sklearn.metrics import r2_score, mean_squared_error, accuracy_score,confusion_matrix,classification_report\n",
        "\n",
        "  print(f\"Accuracy Score = {accuracy_score(y_test,prediction)*100}\")\n",
        "  print(f\"Confusion Matrix =\\n {confusion_matrix(y_test,prediction)}\")\n",
        "  print(f\"Classification Report =\\n {classification_report(y_test,prediction)}\")\n",
        "  print('R2 score = ', r2_score(y_test,prediction))\n",
        "  print('mean_sqrd_error  = ', mean_squared_error(y_test,prediction))\n",
        "  print('root_mean_squared error = ', np.sqrt(mean_squared_error(y_test,prediction)))"
      ],
      "metadata": {
        "id": "tqghY65_7zU1"
      },
      "execution_count": null,
      "outputs": []
    },
    {
      "cell_type": "markdown",
      "metadata": {
        "id": "8PUrBzz8iBn7"
      },
      "source": [
        "## Train Decision Tree Classifier and check accuracy"
      ]
    },
    {
      "cell_type": "code",
      "execution_count": null,
      "metadata": {
        "colab": {
          "base_uri": "https://localhost:8080/"
        },
        "id": "MV1m2IozdwCr",
        "outputId": "e009e1a4-5ed6-4148-849d-dc139896dc2e"
      },
      "outputs": [
        {
          "output_type": "stream",
          "name": "stdout",
          "text": [
            "Accuracy Score = 94.44444444444444\n",
            "Confusion Matrix =\n",
            " [[32  4]\n",
            " [ 0 36]]\n",
            "Classification Report =\n",
            "               precision    recall  f1-score   support\n",
            "\n",
            "         0.0       1.00      0.89      0.94        36\n",
            "         1.0       0.90      1.00      0.95        36\n",
            "\n",
            "    accuracy                           0.94        72\n",
            "   macro avg       0.95      0.94      0.94        72\n",
            "weighted avg       0.95      0.94      0.94        72\n",
            "\n",
            "R2 score =  0.7777777777777778\n",
            "mean_sqrd_error  =  0.05555555555555555\n",
            "root_mean_squared error =  0.23570226039551584\n"
          ]
        }
      ],
      "source": [
        "from sklearn.tree import DecisionTreeClassifier\n",
        "dt=DecisionTreeClassifier(criterion= 'gini', min_samples_split= 10, splitter= 'best')\n",
        "\n",
        "X_train, X_test, Y_train, Y_test = split_scale()\n",
        "dt.fit(X_train,Y_train)\n",
        "\n",
        "prediction = dt.predict(X_test)\n",
        "\n",
        "printResult(prediction, Y_test)"
      ]
    },
    {
      "cell_type": "code",
      "execution_count": null,
      "metadata": {
        "id": "9pe1j8hifS6n"
      },
      "outputs": [],
      "source": [
        "#res = dt.predict([[5.735724, 158.318741,25363.016594,7.728601,377.543291,568.304671,13.626624,75.952337,4.732954]])[0]\n",
        "#res = dt.predict([[0.17, 0.567335, 727.280805, 211.0,\t0.028395,\t0.16]])[0]\n",
        "#res\n",
        "\n"
      ]
    },
    {
      "cell_type": "markdown",
      "metadata": {
        "id": "lO1WpxClhzMy"
      },
      "source": [
        "## Apply Hyper Parameter Tuning"
      ]
    },
    {
      "cell_type": "code",
      "execution_count": null,
      "metadata": {
        "id": "KEVitnCygAKD"
      },
      "outputs": [],
      "source": [
        "'''\n",
        "from sklearn.model_selection import RepeatedStratifiedKFold\n",
        "from sklearn.model_selection import GridSearchCV\n",
        "\n",
        "# define models and parameters\n",
        "model = DecisionTreeClassifier()\n",
        "criterion = [\"gini\", \"entropy\"]\n",
        "splitter = [\"best\", \"random\"]\n",
        "min_samples_split = [2,4,6,8,10,12,14]\n",
        "\n",
        "# define grid search\n",
        "grid = dict(splitter=splitter, criterion=criterion, min_samples_split=min_samples_split)\n",
        "cv = RepeatedStratifiedKFold(n_splits=10, n_repeats=3, random_state=1)\n",
        "grid_search_dt = GridSearchCV(estimator=model, param_grid=grid, n_jobs=-1, cv=cv,\n",
        "                           scoring='accuracy',error_score=0)\n",
        "grid_search_dt.fit(X_train, Y_train)\n",
        "'''"
      ]
    },
    {
      "cell_type": "code",
      "execution_count": null,
      "metadata": {
        "id": "vj0zNZL6gD5w"
      },
      "outputs": [],
      "source": [
        "'''\n",
        "print(f\"Best: {grid_search_dt.best_score_:.3f} using {grid_search_dt.best_params_}\")\n",
        "means = grid_search_dt.cv_results_['mean_test_score']\n",
        "stds = grid_search_dt.cv_results_['std_test_score']\n",
        "params = grid_search_dt.cv_results_['params']\n",
        "\n",
        "for mean, stdev, param in zip(means, stds, params):\n",
        "    print(f\"{mean:.3f} ({stdev:.3f}) with: {param}\")\n",
        "\n",
        "print(\"Training Score:\",grid_search_dt.score(X_train, Y_train)*100)\n",
        "print(\"Testing Score:\", grid_search_dt.score(X_test, Y_test)*100)\n",
        "'''"
      ]
    },
    {
      "cell_type": "markdown",
      "source": [
        "##Prediction using Random Forest"
      ],
      "metadata": {
        "id": "WBrc7CbqfgJn"
      }
    },
    {
      "cell_type": "code",
      "source": [
        "from sklearn.ensemble import RandomForestClassifier\n",
        "from sklearn.metrics import accuracy_score,confusion_matrix,classification_report\n",
        "\n",
        "rfc = RandomForestClassifier()\n",
        "X_train, X_test, Y_train, Y_test = split_scale()\n",
        "rfc.fit(X_train,Y_train)\n",
        "\n",
        "prediction= rfc.predict(X_test)\n",
        "\n",
        "printResult(prediction, Y_test)\n",
        "\n",
        "X_train2 = X_train.copy()"
      ],
      "metadata": {
        "colab": {
          "base_uri": "https://localhost:8080/"
        },
        "id": "sd_3mTN9fm39",
        "outputId": "2225b0bf-0e53-4da3-c9c7-395ad49214ec"
      },
      "execution_count": null,
      "outputs": [
        {
          "output_type": "stream",
          "name": "stdout",
          "text": [
            "Accuracy Score = 94.44444444444444\n",
            "Confusion Matrix =\n",
            " [[33  3]\n",
            " [ 1 35]]\n",
            "Classification Report =\n",
            "               precision    recall  f1-score   support\n",
            "\n",
            "         0.0       0.97      0.92      0.94        36\n",
            "         1.0       0.92      0.97      0.95        36\n",
            "\n",
            "    accuracy                           0.94        72\n",
            "   macro avg       0.95      0.94      0.94        72\n",
            "weighted avg       0.95      0.94      0.94        72\n",
            "\n",
            "R2 score =  0.7777777777777778\n",
            "mean_sqrd_error  =  0.05555555555555555\n",
            "root_mean_squared error =  0.23570226039551584\n"
          ]
        }
      ]
    },
    {
      "cell_type": "code",
      "source": [
        "#res = dt.predict([[6.9, 0.17, 0.567335, 727.280805, 211.0,\t0.028395,\t0.16, 949.0,\t949.0]])[0]\n",
        "#res = dt.predict([[0.17, 7.567335, 727.280805, 211.0,\t0.028395,\t0.16]])[0]\n",
        "#res"
      ],
      "metadata": {
        "id": "pbJ3fD0hXUlE"
      },
      "execution_count": null,
      "outputs": []
    },
    {
      "cell_type": "markdown",
      "source": [
        "## using Logistic Regression"
      ],
      "metadata": {
        "id": "IBXoGtlIeUJL"
      }
    },
    {
      "cell_type": "code",
      "source": [
        "from sklearn.linear_model import LogisticRegression\n",
        "lr = LogisticRegression()\n",
        "X_train, X_test, Y_train, Y_test = split_scale()\n",
        "lr.fit(X_train,Y_train)\n",
        "\n",
        "prediction= lr.predict(X_test)\n",
        "#prediction2 = np.rint(prediction)\n",
        "\n",
        "printResult(prediction, Y_test)"
      ],
      "metadata": {
        "colab": {
          "base_uri": "https://localhost:8080/"
        },
        "id": "-R9B2VF0elyY",
        "outputId": "b3c29024-f479-4e3d-b816-03f15e630893"
      },
      "execution_count": null,
      "outputs": [
        {
          "output_type": "stream",
          "name": "stdout",
          "text": [
            "Accuracy Score = 91.66666666666666\n",
            "Confusion Matrix =\n",
            " [[34  2]\n",
            " [ 4 32]]\n",
            "Classification Report =\n",
            "               precision    recall  f1-score   support\n",
            "\n",
            "         0.0       0.89      0.94      0.92        36\n",
            "         1.0       0.94      0.89      0.91        36\n",
            "\n",
            "    accuracy                           0.92        72\n",
            "   macro avg       0.92      0.92      0.92        72\n",
            "weighted avg       0.92      0.92      0.92        72\n",
            "\n",
            "R2 score =  0.6666666666666667\n",
            "mean_sqrd_error  =  0.08333333333333333\n",
            "root_mean_squared error =  0.28867513459481287\n"
          ]
        }
      ]
    },
    {
      "cell_type": "markdown",
      "source": [
        "## Using SVR"
      ],
      "metadata": {
        "id": "Ghe64sTmiZRf"
      }
    },
    {
      "cell_type": "code",
      "source": [
        "from sklearn.svm import SVC\n",
        "sv = SVC(kernel = 'linear')#'rbf')\n",
        "X_train, X_test, Y_train, Y_test = split_scale()\n",
        "\n",
        "sv.fit(X_train, Y_train)\n",
        "\n",
        "prediction= sv.predict(X_test)\n",
        "#prediction2 = np.floor(prediction *10) #prediction2 = np.rint(prediction) #mapping 2 nearest whole numb - to a regression (continuous target variable) to classification (discrete target variable)\n",
        "\n",
        "printResult(prediction, Y_test)"
      ],
      "metadata": {
        "colab": {
          "base_uri": "https://localhost:8080/"
        },
        "id": "-ijs-WsriVwt",
        "outputId": "689a1e46-4907-45db-cf1f-46b5480044ce"
      },
      "execution_count": null,
      "outputs": [
        {
          "output_type": "stream",
          "name": "stdout",
          "text": [
            "Accuracy Score = 93.05555555555556\n",
            "Confusion Matrix =\n",
            " [[34  2]\n",
            " [ 3 33]]\n",
            "Classification Report =\n",
            "               precision    recall  f1-score   support\n",
            "\n",
            "         0.0       0.92      0.94      0.93        36\n",
            "         1.0       0.94      0.92      0.93        36\n",
            "\n",
            "    accuracy                           0.93        72\n",
            "   macro avg       0.93      0.93      0.93        72\n",
            "weighted avg       0.93      0.93      0.93        72\n",
            "\n",
            "R2 score =  0.7222222222222222\n",
            "mean_sqrd_error  =  0.06944444444444445\n",
            "root_mean_squared error =  0.26352313834736496\n"
          ]
        }
      ]
    },
    {
      "cell_type": "markdown",
      "source": [
        "##Naive Bayes"
      ],
      "metadata": {
        "id": "5GXn4A4VUM5N"
      }
    },
    {
      "cell_type": "code",
      "source": [
        "from sklearn.naive_bayes import GaussianNB\n",
        "nb = GaussianNB()\n",
        "\n",
        "X_train, X_test, Y_train, Y_test = split_scale()\n",
        "nb.fit(X_train, Y_train)\n",
        "\n",
        "prediction= nb.predict(X_test)\n",
        "\n",
        "printResult(prediction, Y_test)"
      ],
      "metadata": {
        "colab": {
          "base_uri": "https://localhost:8080/"
        },
        "id": "RHOCFketUO2P",
        "outputId": "3ff87413-9df1-4f2a-9325-f74e3f3b6a33"
      },
      "execution_count": null,
      "outputs": [
        {
          "output_type": "stream",
          "name": "stdout",
          "text": [
            "Accuracy Score = 86.11111111111111\n",
            "Confusion Matrix =\n",
            " [[40  5]\n",
            " [ 5 22]]\n",
            "Classification Report =\n",
            "               precision    recall  f1-score   support\n",
            "\n",
            "         0.0       0.89      0.89      0.89        45\n",
            "         1.0       0.81      0.81      0.81        27\n",
            "\n",
            "    accuracy                           0.86        72\n",
            "   macro avg       0.85      0.85      0.85        72\n",
            "weighted avg       0.86      0.86      0.86        72\n",
            "\n",
            "R2 score =  0.40740740740740744\n",
            "mean_sqrd_error  =  0.1388888888888889\n",
            "root_mean_squared error =  0.37267799624996495\n"
          ]
        }
      ]
    },
    {
      "cell_type": "markdown",
      "source": [
        "## Auto Feature Selection\n",
        "### Using Recursive Feature Elimination + SVC\n",
        "\n"
      ],
      "metadata": {
        "id": "feuYFGEKM1Oy"
      }
    },
    {
      "cell_type": "code",
      "source": [
        "A2.columns"
      ],
      "metadata": {
        "id": "rv5eehbzKqMx",
        "colab": {
          "base_uri": "https://localhost:8080/"
        },
        "outputId": "69936a4b-b9b7-4e8d-ec58-275c65a14f40"
      },
      "execution_count": null,
      "outputs": [
        {
          "output_type": "execute_result",
          "data": {
            "text/plain": [
              "Index(['RSC', 'PI', 'KR', 'MH', 'Na', 'SAR', 'SSP', 'EC'], dtype='object')"
            ]
          },
          "metadata": {},
          "execution_count": 49
        }
      ]
    },
    {
      "cell_type": "code",
      "source": [
        "from sklearn.model_selection import StratifiedKFold #RepeatedStratifiedKFold\n",
        "from matplotlib.pyplot import figure\n",
        "from sklearn.feature_selection import RFECV\n",
        "\n",
        "##############################################################\n",
        "rfecv = RFECV(SVC(kernel = 'linear'), step=1, cv=5, scoring='accuracy')\n",
        "rfecv.fit(X_train, Y_train)\n",
        "\n",
        "print('Optimal number of features :', rfecv.n_features_)\n",
        "print('Best features :', A2.columns[rfecv.support_])\n",
        "print('Original features :', A2.columns)\n"
      ],
      "metadata": {
        "colab": {
          "base_uri": "https://localhost:8080/"
        },
        "id": "-_6hjyw_dsXC",
        "outputId": "57365f6f-5e98-4255-8e14-170c93d01810"
      },
      "execution_count": null,
      "outputs": [
        {
          "output_type": "stream",
          "name": "stdout",
          "text": [
            "Optimal number of features : 7\n",
            "Best features : Index(['RSC', 'PI', 'KR', 'MH', 'Na', 'SAR', 'EC'], dtype='object')\n",
            "Original features : Index(['RSC', 'PI', 'KR', 'MH', 'Na', 'SAR', 'SSP', 'EC'], dtype='object')\n"
          ]
        }
      ]
    },
    {
      "cell_type": "code",
      "source": [
        "plt.figure()\n",
        "plt.xlabel(\"Number of features selected\")\n",
        "plt.ylabel(\"Cross validation score \\n of number of selected features\")\n",
        "lines = plt.plot(range(1, len(rfecv.grid_scores_[:,1]) + 1), rfecv.grid_scores_[:,1])\n",
        "#plt.plot(rfecv.n_features_, rfecv.grid_scores_[:,1], marker='o', label='Optimal number of feature')\n",
        "plt.legend (lines, ['best'] )\n",
        "plt.show()"
      ],
      "metadata": {
        "id": "qbfj3gSaVumF"
      },
      "execution_count": null,
      "outputs": []
    },
    {
      "cell_type": "code",
      "source": [
        "##Rank features\n",
        "\n",
        "importance_values = np.absolute(rfecv.estimator_.coef_) #rfecv.estimator_.feature_importances_\n",
        "importance_features_sorted_all = pd.DataFrame()\n",
        "importance_features_sorted = pd.DataFrame(importance_values.reshape([-1, len(A2.columns[rfecv.support_])]), columns=A2.columns[rfecv.support_]).mean(axis=0).sort_values(ascending=False).to_frame()\n",
        "importance_features_sorted.rename(columns={0: 'feature_importance'}, inplace=True)\n",
        "importance_features_sorted['ranking']= importance_features_sorted['feature_importance'].rank(ascending=False)\n",
        "importance_features_sorted['model'] = 'RandomForestClassifier'\n",
        "\n",
        "print('Show all features, ranked by Feature Importance')\n",
        "display(importance_features_sorted.drop('model', axis=1).head(X_train.shape[1]))\n",
        "importance_features_sorted_all = importance_features_sorted_all.append(importance_features_sorted)"
      ],
      "metadata": {
        "colab": {
          "base_uri": "https://localhost:8080/",
          "height": 286
        },
        "id": "J7MSxBDmNtiy",
        "outputId": "c44a7464-05dd-40bf-cf50-be43ff6693e8"
      },
      "execution_count": null,
      "outputs": [
        {
          "output_type": "stream",
          "name": "stdout",
          "text": [
            "Show all features, ranked by Feature Importance\n"
          ]
        },
        {
          "output_type": "display_data",
          "data": {
            "text/html": [
              "\n",
              "  <div id=\"df-fe7b2781-2bc9-40c8-b78a-ceda19c589d7\">\n",
              "    <div class=\"colab-df-container\">\n",
              "      <div>\n",
              "<style scoped>\n",
              "    .dataframe tbody tr th:only-of-type {\n",
              "        vertical-align: middle;\n",
              "    }\n",
              "\n",
              "    .dataframe tbody tr th {\n",
              "        vertical-align: top;\n",
              "    }\n",
              "\n",
              "    .dataframe thead th {\n",
              "        text-align: right;\n",
              "    }\n",
              "</style>\n",
              "<table border=\"1\" class=\"dataframe\">\n",
              "  <thead>\n",
              "    <tr style=\"text-align: right;\">\n",
              "      <th></th>\n",
              "      <th>feature_importance</th>\n",
              "      <th>ranking</th>\n",
              "    </tr>\n",
              "  </thead>\n",
              "  <tbody>\n",
              "    <tr>\n",
              "      <th>RSC</th>\n",
              "      <td>4.980173</td>\n",
              "      <td>1.0</td>\n",
              "    </tr>\n",
              "    <tr>\n",
              "      <th>EC</th>\n",
              "      <td>2.668954</td>\n",
              "      <td>2.0</td>\n",
              "    </tr>\n",
              "    <tr>\n",
              "      <th>SAR</th>\n",
              "      <td>1.622580</td>\n",
              "      <td>3.0</td>\n",
              "    </tr>\n",
              "    <tr>\n",
              "      <th>Na</th>\n",
              "      <td>0.907881</td>\n",
              "      <td>4.0</td>\n",
              "    </tr>\n",
              "    <tr>\n",
              "      <th>PI</th>\n",
              "      <td>0.299117</td>\n",
              "      <td>5.0</td>\n",
              "    </tr>\n",
              "    <tr>\n",
              "      <th>KR</th>\n",
              "      <td>0.291719</td>\n",
              "      <td>6.0</td>\n",
              "    </tr>\n",
              "    <tr>\n",
              "      <th>MH</th>\n",
              "      <td>0.259527</td>\n",
              "      <td>7.0</td>\n",
              "    </tr>\n",
              "  </tbody>\n",
              "</table>\n",
              "</div>\n",
              "      <button class=\"colab-df-convert\" onclick=\"convertToInteractive('df-fe7b2781-2bc9-40c8-b78a-ceda19c589d7')\"\n",
              "              title=\"Convert this dataframe to an interactive table.\"\n",
              "              style=\"display:none;\">\n",
              "        \n",
              "  <svg xmlns=\"http://www.w3.org/2000/svg\" height=\"24px\"viewBox=\"0 0 24 24\"\n",
              "       width=\"24px\">\n",
              "    <path d=\"M0 0h24v24H0V0z\" fill=\"none\"/>\n",
              "    <path d=\"M18.56 5.44l.94 2.06.94-2.06 2.06-.94-2.06-.94-.94-2.06-.94 2.06-2.06.94zm-11 1L8.5 8.5l.94-2.06 2.06-.94-2.06-.94L8.5 2.5l-.94 2.06-2.06.94zm10 10l.94 2.06.94-2.06 2.06-.94-2.06-.94-.94-2.06-.94 2.06-2.06.94z\"/><path d=\"M17.41 7.96l-1.37-1.37c-.4-.4-.92-.59-1.43-.59-.52 0-1.04.2-1.43.59L10.3 9.45l-7.72 7.72c-.78.78-.78 2.05 0 2.83L4 21.41c.39.39.9.59 1.41.59.51 0 1.02-.2 1.41-.59l7.78-7.78 2.81-2.81c.8-.78.8-2.07 0-2.86zM5.41 20L4 18.59l7.72-7.72 1.47 1.35L5.41 20z\"/>\n",
              "  </svg>\n",
              "      </button>\n",
              "      \n",
              "  <style>\n",
              "    .colab-df-container {\n",
              "      display:flex;\n",
              "      flex-wrap:wrap;\n",
              "      gap: 12px;\n",
              "    }\n",
              "\n",
              "    .colab-df-convert {\n",
              "      background-color: #E8F0FE;\n",
              "      border: none;\n",
              "      border-radius: 50%;\n",
              "      cursor: pointer;\n",
              "      display: none;\n",
              "      fill: #1967D2;\n",
              "      height: 32px;\n",
              "      padding: 0 0 0 0;\n",
              "      width: 32px;\n",
              "    }\n",
              "\n",
              "    .colab-df-convert:hover {\n",
              "      background-color: #E2EBFA;\n",
              "      box-shadow: 0px 1px 2px rgba(60, 64, 67, 0.3), 0px 1px 3px 1px rgba(60, 64, 67, 0.15);\n",
              "      fill: #174EA6;\n",
              "    }\n",
              "\n",
              "    [theme=dark] .colab-df-convert {\n",
              "      background-color: #3B4455;\n",
              "      fill: #D2E3FC;\n",
              "    }\n",
              "\n",
              "    [theme=dark] .colab-df-convert:hover {\n",
              "      background-color: #434B5C;\n",
              "      box-shadow: 0px 1px 3px 1px rgba(0, 0, 0, 0.15);\n",
              "      filter: drop-shadow(0px 1px 2px rgba(0, 0, 0, 0.3));\n",
              "      fill: #FFFFFF;\n",
              "    }\n",
              "  </style>\n",
              "\n",
              "      <script>\n",
              "        const buttonEl =\n",
              "          document.querySelector('#df-fe7b2781-2bc9-40c8-b78a-ceda19c589d7 button.colab-df-convert');\n",
              "        buttonEl.style.display =\n",
              "          google.colab.kernel.accessAllowed ? 'block' : 'none';\n",
              "\n",
              "        async function convertToInteractive(key) {\n",
              "          const element = document.querySelector('#df-fe7b2781-2bc9-40c8-b78a-ceda19c589d7');\n",
              "          const dataTable =\n",
              "            await google.colab.kernel.invokeFunction('convertToInteractive',\n",
              "                                                     [key], {});\n",
              "          if (!dataTable) return;\n",
              "\n",
              "          const docLinkHtml = 'Like what you see? Visit the ' +\n",
              "            '<a target=\"_blank\" href=https://colab.research.google.com/notebooks/data_table.ipynb>data table notebook</a>'\n",
              "            + ' to learn more about interactive tables.';\n",
              "          element.innerHTML = '';\n",
              "          dataTable['output_type'] = 'display_data';\n",
              "          await google.colab.output.renderOutput(dataTable, element);\n",
              "          const docLink = document.createElement('div');\n",
              "          docLink.innerHTML = docLinkHtml;\n",
              "          element.appendChild(docLink);\n",
              "        }\n",
              "      </script>\n",
              "    </div>\n",
              "  </div>\n",
              "  "
            ],
            "text/plain": [
              "     feature_importance  ranking\n",
              "RSC            4.980173      1.0\n",
              "EC             2.668954      2.0\n",
              "SAR            1.622580      3.0\n",
              "Na             0.907881      4.0\n",
              "PI             0.299117      5.0\n",
              "KR             0.291719      6.0\n",
              "MH             0.259527      7.0"
            ]
          },
          "metadata": {}
        }
      ]
    },
    {
      "cell_type": "markdown",
      "source": [
        "## RFE + RF"
      ],
      "metadata": {
        "id": "O9eakt3JTl_3"
      }
    },
    {
      "cell_type": "code",
      "source": [
        "from sklearn.model_selection import KFold, StratifiedKFold\n",
        "from matplotlib.pyplot import figure\n",
        "from sklearn.feature_selection import RFECV\n",
        "\n",
        "##############################################################\n",
        "\n",
        "#kfold = StratifiedKFold(n_splits=10, random_state=1132, shuffle=True)\n",
        "rfecv = RFECV(estimator=RandomForestClassifier().set_params(), step=1, cv=5, scoring='accuracy')\n",
        "rfecv.fit(X_train, Y_train)\n",
        "\n",
        "print('Optimal number of features :', rfecv.n_features_)\n",
        "print('Best features :', A2.columns[rfecv.support_])\n",
        "print('Original features :', A2.columns)\n"
      ],
      "metadata": {
        "colab": {
          "base_uri": "https://localhost:8080/"
        },
        "id": "IMdLYkdzCQYk",
        "outputId": "54ece192-2e7b-4dbc-9836-f251902a367d"
      },
      "execution_count": null,
      "outputs": [
        {
          "output_type": "stream",
          "name": "stdout",
          "text": [
            "Optimal number of features : 5\n",
            "Best features : Index(['RSC', 'PI', 'Na', 'SAR', 'EC'], dtype='object')\n",
            "Original features : Index(['RSC', 'PI', 'KR', 'MH', 'Na', 'SAR', 'SSP', 'EC'], dtype='object')\n"
          ]
        }
      ]
    },
    {
      "cell_type": "code",
      "source": [
        "plt.figure()\n",
        "plt.xlabel(\"Number of features selected\")\n",
        "plt.ylabel(\"Cross validation score \\n of number of selected features\")\n",
        "lines = plt.plot(range(1, len(rfecv.grid_scores_) + 1), rfecv.grid_scores_)\n",
        "plt.legend(lines[:],['cv1', 'cv2','cv3','cv4','cv5'])\n",
        "plt.show()"
      ],
      "metadata": {
        "colab": {
          "base_uri": "https://localhost:8080/",
          "height": 334
        },
        "id": "aJyIv9AuUIQb",
        "outputId": "5bbd74e5-0d88-4889-8b83-8016036eb3c0"
      },
      "execution_count": null,
      "outputs": [
        {
          "output_type": "stream",
          "name": "stderr",
          "text": [
            "/usr/local/lib/python3.7/dist-packages/sklearn/utils/deprecation.py:103: FutureWarning: The `grid_scores_` attribute is deprecated in version 1.0 in favor of `cv_results_` and will be removed in version 1.2.\n",
            "  warnings.warn(msg, category=FutureWarning)\n"
          ]
        },
        {
          "output_type": "display_data",
          "data": {
            "image/png": "[encoded data removed]",
            "text/plain": [
              "<Figure size 432x288 with 1 Axes>"
            ]
          },
          "metadata": {
            "needs_background": "light"
          }
        }
      ]
    },
    {
      "cell_type": "code",
      "source": [
        "##Rank features\n",
        "\n",
        "importance_values = rfecv.estimator_.feature_importances_\n",
        "importance_features_sorted_all = pd.DataFrame()\n",
        "importance_features_sorted = pd.DataFrame(importance_values.reshape([-1, len(A2.columns[rfecv.support_])]), columns=A2.columns[rfecv.support_]).mean(axis=0).sort_values(ascending=False).to_frame()\n",
        "importance_features_sorted.rename(columns={0: 'feature_importance'}, inplace=True)\n",
        "importance_features_sorted['ranking']= importance_features_sorted['feature_importance'].rank(ascending=False)\n",
        "importance_features_sorted['model'] = 'RandomForestClassifier'\n",
        "\n",
        "print('Show all features, ranked by Feature Importance')\n",
        "display(importance_features_sorted.drop('model', axis=1).head(X_train.shape[1]))\n",
        "importance_features_sorted_all = importance_features_sorted_all.append(importance_features_sorted)"
      ],
      "metadata": {
        "colab": {
          "base_uri": "https://localhost:8080/",
          "height": 223
        },
        "id": "WlopicSYUegt",
        "outputId": "23558ec1-24c5-4aa3-a9a4-61690e764125"
      },
      "execution_count": null,
      "outputs": [
        {
          "output_type": "stream",
          "name": "stdout",
          "text": [
            "Show all features, ranked by Feature Importance\n"
          ]
        },
        {
          "output_type": "display_data",
          "data": {
            "text/html": [
              "\n",
              "  <div id=\"df-219abf93-03dd-4086-9fdc-cf6a7e06da80\">\n",
              "    <div class=\"colab-df-container\">\n",
              "      <div>\n",
              "<style scoped>\n",
              "    .dataframe tbody tr th:only-of-type {\n",
              "        vertical-align: middle;\n",
              "    }\n",
              "\n",
              "    .dataframe tbody tr th {\n",
              "        vertical-align: top;\n",
              "    }\n",
              "\n",
              "    .dataframe thead th {\n",
              "        text-align: right;\n",
              "    }\n",
              "</style>\n",
              "<table border=\"1\" class=\"dataframe\">\n",
              "  <thead>\n",
              "    <tr style=\"text-align: right;\">\n",
              "      <th></th>\n",
              "      <th>feature_importance</th>\n",
              "      <th>ranking</th>\n",
              "    </tr>\n",
              "  </thead>\n",
              "  <tbody>\n",
              "    <tr>\n",
              "      <th>RSC</th>\n",
              "      <td>0.309706</td>\n",
              "      <td>1.0</td>\n",
              "    </tr>\n",
              "    <tr>\n",
              "      <th>Na</th>\n",
              "      <td>0.212282</td>\n",
              "      <td>2.0</td>\n",
              "    </tr>\n",
              "    <tr>\n",
              "      <th>SAR</th>\n",
              "      <td>0.195739</td>\n",
              "      <td>3.0</td>\n",
              "    </tr>\n",
              "    <tr>\n",
              "      <th>PI</th>\n",
              "      <td>0.180721</td>\n",
              "      <td>4.0</td>\n",
              "    </tr>\n",
              "    <tr>\n",
              "      <th>EC</th>\n",
              "      <td>0.101552</td>\n",
              "      <td>5.0</td>\n",
              "    </tr>\n",
              "  </tbody>\n",
              "</table>\n",
              "</div>\n",
              "      <button class=\"colab-df-convert\" onclick=\"convertToInteractive('df-219abf93-03dd-4086-9fdc-cf6a7e06da80')\"\n",
              "              title=\"Convert this dataframe to an interactive table.\"\n",
              "              style=\"display:none;\">\n",
              "        \n",
              "  <svg xmlns=\"http://www.w3.org/2000/svg\" height=\"24px\"viewBox=\"0 0 24 24\"\n",
              "       width=\"24px\">\n",
              "    <path d=\"M0 0h24v24H0V0z\" fill=\"none\"/>\n",
              "    <path d=\"M18.56 5.44l.94 2.06.94-2.06 2.06-.94-2.06-.94-.94-2.06-.94 2.06-2.06.94zm-11 1L8.5 8.5l.94-2.06 2.06-.94-2.06-.94L8.5 2.5l-.94 2.06-2.06.94zm10 10l.94 2.06.94-2.06 2.06-.94-2.06-.94-.94-2.06-.94 2.06-2.06.94z\"/><path d=\"M17.41 7.96l-1.37-1.37c-.4-.4-.92-.59-1.43-.59-.52 0-1.04.2-1.43.59L10.3 9.45l-7.72 7.72c-.78.78-.78 2.05 0 2.83L4 21.41c.39.39.9.59 1.41.59.51 0 1.02-.2 1.41-.59l7.78-7.78 2.81-2.81c.8-.78.8-2.07 0-2.86zM5.41 20L4 18.59l7.72-7.72 1.47 1.35L5.41 20z\"/>\n",
              "  </svg>\n",
              "      </button>\n",
              "      \n",
              "  <style>\n",
              "    .colab-df-container {\n",
              "      display:flex;\n",
              "      flex-wrap:wrap;\n",
              "      gap: 12px;\n",
              "    }\n",
              "\n",
              "    .colab-df-convert {\n",
              "      background-color: #E8F0FE;\n",
              "      border: none;\n",
              "      border-radius: 50%;\n",
              "      cursor: pointer;\n",
              "      display: none;\n",
              "      fill: #1967D2;\n",
              "      height: 32px;\n",
              "      padding: 0 0 0 0;\n",
              "      width: 32px;\n",
              "    }\n",
              "\n",
              "    .colab-df-convert:hover {\n",
              "      background-color: #E2EBFA;\n",
              "      box-shadow: 0px 1px 2px rgba(60, 64, 67, 0.3), 0px 1px 3px 1px rgba(60, 64, 67, 0.15);\n",
              "      fill: #174EA6;\n",
              "    }\n",
              "\n",
              "    [theme=dark] .colab-df-convert {\n",
              "      background-color: #3B4455;\n",
              "      fill: #D2E3FC;\n",
              "    }\n",
              "\n",
              "    [theme=dark] .colab-df-convert:hover {\n",
              "      background-color: #434B5C;\n",
              "      box-shadow: 0px 1px 3px 1px rgba(0, 0, 0, 0.15);\n",
              "      filter: drop-shadow(0px 1px 2px rgba(0, 0, 0, 0.3));\n",
              "      fill: #FFFFFF;\n",
              "    }\n",
              "  </style>\n",
              "\n",
              "      <script>\n",
              "        const buttonEl =\n",
              "          document.querySelector('#df-219abf93-03dd-4086-9fdc-cf6a7e06da80 button.colab-df-convert');\n",
              "        buttonEl.style.display =\n",
              "          google.colab.kernel.accessAllowed ? 'block' : 'none';\n",
              "\n",
              "        async function convertToInteractive(key) {\n",
              "          const element = document.querySelector('#df-219abf93-03dd-4086-9fdc-cf6a7e06da80');\n",
              "          const dataTable =\n",
              "            await google.colab.kernel.invokeFunction('convertToInteractive',\n",
              "                                                     [key], {});\n",
              "          if (!dataTable) return;\n",
              "\n",
              "          const docLinkHtml = 'Like what you see? Visit the ' +\n",
              "            '<a target=\"_blank\" href=https://colab.research.google.com/notebooks/data_table.ipynb>data table notebook</a>'\n",
              "            + ' to learn more about interactive tables.';\n",
              "          element.innerHTML = '';\n",
              "          dataTable['output_type'] = 'display_data';\n",
              "          await google.colab.output.renderOutput(dataTable, element);\n",
              "          const docLink = document.createElement('div');\n",
              "          docLink.innerHTML = docLinkHtml;\n",
              "          element.appendChild(docLink);\n",
              "        }\n",
              "      </script>\n",
              "    </div>\n",
              "  </div>\n",
              "  "
            ],
            "text/plain": [
              "     feature_importance  ranking\n",
              "RSC            0.309706      1.0\n",
              "Na             0.212282      2.0\n",
              "SAR            0.195739      3.0\n",
              "PI             0.180721      4.0\n",
              "EC             0.101552      5.0"
            ]
          },
          "metadata": {}
        }
      ]
    },
    {
      "cell_type": "markdown",
      "source": [
        "## Feature Ranking - LR"
      ],
      "metadata": {
        "id": "QBb-dZ4iKqYa"
      }
    },
    {
      "cell_type": "code",
      "source": [
        "from sklearn.model_selection import RepeatedStratifiedKFold\n",
        "from matplotlib.pyplot import figure\n",
        "from sklearn.feature_selection import RFECV\n",
        "\n",
        "##############################################################\n",
        "#kfold = RepeatedStratifiedKFold(n_splits=10, n_repeats=3, random_state=1132)\n",
        "rfecv = RFECV(LogisticRegression(), step=1, cv=5, scoring='accuracy', verbose=0)\n",
        "rfecv.fit(X_train, Y_train)\n",
        "\n",
        "print('Optimal number of features :', rfecv.n_features_)\n",
        "print('Best features :', A2.columns[rfecv.support_])\n",
        "print('Original features :', A2.columns)\n"
      ],
      "metadata": {
        "colab": {
          "base_uri": "https://localhost:8080/"
        },
        "id": "18Hxw9SA2UDg",
        "outputId": "eea45edb-22f8-44be-cb2f-186908e442d8"
      },
      "execution_count": null,
      "outputs": [
        {
          "output_type": "stream",
          "name": "stdout",
          "text": [
            "Optimal number of features : 5\n",
            "Best features : Index(['RSC', 'PI', 'Na', 'SAR', 'EC'], dtype='object')\n",
            "Original features : Index(['RSC', 'PI', 'KR', 'MH', 'Na', 'SAR', 'SSP', 'EC'], dtype='object')\n"
          ]
        }
      ]
    },
    {
      "cell_type": "code",
      "source": [
        "plt.figure()\n",
        "plt.xlabel(\"Number of features selected\")\n",
        "plt.ylabel(\"Cross validation score \\n of number of selected features\")\n",
        "c = len(rfecv.grid_scores_[0]) - 1\n",
        "lines = plt.plot(range(1, len(rfecv.grid_scores_) + 1), rfecv.grid_scores_)\n",
        "plt.legend(lines[:],['cv1', 'cv2','cv3','cv4','cv5'])\n",
        "#plt.plot(range(1, len(rfecv.grid_scores_[:,c]) + 1), rfecv.grid_scores_[:,c]))\n",
        "plt.show()"
      ],
      "metadata": {
        "colab": {
          "base_uri": "https://localhost:8080/",
          "height": 334
        },
        "id": "EEOgdASvVpgp",
        "outputId": "f0ac85eb-db2a-480e-99e9-df77f2933dc5"
      },
      "execution_count": null,
      "outputs": [
        {
          "output_type": "stream",
          "name": "stderr",
          "text": [
            "/usr/local/lib/python3.7/dist-packages/sklearn/utils/deprecation.py:103: FutureWarning: The `grid_scores_` attribute is deprecated in version 1.0 in favor of `cv_results_` and will be removed in version 1.2.\n",
            "  warnings.warn(msg, category=FutureWarning)\n"
          ]
        },
        {
          "output_type": "display_data",
          "data": {
            "image/png": "[encoded data removed]",
            "text/plain": [
              "<Figure size 432x288 with 1 Axes>"
            ]
          },
          "metadata": {
            "needs_background": "light"
          }
        }
      ]
    },
    {
      "cell_type": "code",
      "source": [
        "##Rank features\n",
        "importance_values = np.absolute(rfecv.estimator_.coef_) #from LR in previous cell\n",
        "importance_features_sorted_all = pd.DataFrame()\n",
        "importance_features_sorted = pd.DataFrame(importance_values.reshape([-1, len(A2.columns[rfecv.support_])]), columns=A2.columns[rfecv.support_]).mean(axis=0).sort_values(ascending=False).to_frame()\n",
        "importance_features_sorted.rename(columns={0: 'feature_importance'}, inplace=True)\n",
        "importance_features_sorted['ranking']= importance_features_sorted['feature_importance'].rank(ascending=False)\n",
        "importance_features_sorted['model'] = 'RandomForestClassifier'\n",
        "\n",
        "print('Show all features, ranked by Feature Importance')\n",
        "display(importance_features_sorted.drop('model', axis=1).head(X_train.shape[1]))\n",
        "importance_features_sorted_all = importance_features_sorted_all.append(importance_features_sorted)"
      ],
      "metadata": {
        "colab": {
          "base_uri": "https://localhost:8080/",
          "height": 223
        },
        "id": "64glnf_-K04K",
        "outputId": "90704a33-05a6-4e40-9517-10467008a90d"
      },
      "execution_count": null,
      "outputs": [
        {
          "output_type": "stream",
          "name": "stdout",
          "text": [
            "Show all features, ranked by Feature Importance\n"
          ]
        },
        {
          "output_type": "display_data",
          "data": {
            "text/html": [
              "\n",
              "  <div id=\"df-9e0c2f9f-c75d-4dd8-93b1-c69f167668f2\">\n",
              "    <div class=\"colab-df-container\">\n",
              "      <div>\n",
              "<style scoped>\n",
              "    .dataframe tbody tr th:only-of-type {\n",
              "        vertical-align: middle;\n",
              "    }\n",
              "\n",
              "    .dataframe tbody tr th {\n",
              "        vertical-align: top;\n",
              "    }\n",
              "\n",
              "    .dataframe thead th {\n",
              "        text-align: right;\n",
              "    }\n",
              "</style>\n",
              "<table border=\"1\" class=\"dataframe\">\n",
              "  <thead>\n",
              "    <tr style=\"text-align: right;\">\n",
              "      <th></th>\n",
              "      <th>feature_importance</th>\n",
              "      <th>ranking</th>\n",
              "    </tr>\n",
              "  </thead>\n",
              "  <tbody>\n",
              "    <tr>\n",
              "      <th>RSC</th>\n",
              "      <td>4.533393</td>\n",
              "      <td>1.0</td>\n",
              "    </tr>\n",
              "    <tr>\n",
              "      <th>EC</th>\n",
              "      <td>2.212572</td>\n",
              "      <td>2.0</td>\n",
              "    </tr>\n",
              "    <tr>\n",
              "      <th>SAR</th>\n",
              "      <td>2.003662</td>\n",
              "      <td>3.0</td>\n",
              "    </tr>\n",
              "    <tr>\n",
              "      <th>Na</th>\n",
              "      <td>1.570997</td>\n",
              "      <td>4.0</td>\n",
              "    </tr>\n",
              "    <tr>\n",
              "      <th>PI</th>\n",
              "      <td>0.463460</td>\n",
              "      <td>5.0</td>\n",
              "    </tr>\n",
              "  </tbody>\n",
              "</table>\n",
              "</div>\n",
              "      <button class=\"colab-df-convert\" onclick=\"convertToInteractive('df-9e0c2f9f-c75d-4dd8-93b1-c69f167668f2')\"\n",
              "              title=\"Convert this dataframe to an interactive table.\"\n",
              "              style=\"display:none;\">\n",
              "        \n",
              "  <svg xmlns=\"http://www.w3.org/2000/svg\" height=\"24px\"viewBox=\"0 0 24 24\"\n",
              "       width=\"24px\">\n",
              "    <path d=\"M0 0h24v24H0V0z\" fill=\"none\"/>\n",
              "    <path d=\"M18.56 5.44l.94 2.06.94-2.06 2.06-.94-2.06-.94-.94-2.06-.94 2.06-2.06.94zm-11 1L8.5 8.5l.94-2.06 2.06-.94-2.06-.94L8.5 2.5l-.94 2.06-2.06.94zm10 10l.94 2.06.94-2.06 2.06-.94-2.06-.94-.94-2.06-.94 2.06-2.06.94z\"/><path d=\"M17.41 7.96l-1.37-1.37c-.4-.4-.92-.59-1.43-.59-.52 0-1.04.2-1.43.59L10.3 9.45l-7.72 7.72c-.78.78-.78 2.05 0 2.83L4 21.41c.39.39.9.59 1.41.59.51 0 1.02-.2 1.41-.59l7.78-7.78 2.81-2.81c.8-.78.8-2.07 0-2.86zM5.41 20L4 18.59l7.72-7.72 1.47 1.35L5.41 20z\"/>\n",
              "  </svg>\n",
              "      </button>\n",
              "      \n",
              "  <style>\n",
              "    .colab-df-container {\n",
              "      display:flex;\n",
              "      flex-wrap:wrap;\n",
              "      gap: 12px;\n",
              "    }\n",
              "\n",
              "    .colab-df-convert {\n",
              "      background-color: #E8F0FE;\n",
              "      border: none;\n",
              "      border-radius: 50%;\n",
              "      cursor: pointer;\n",
              "      display: none;\n",
              "      fill: #1967D2;\n",
              "      height: 32px;\n",
              "      padding: 0 0 0 0;\n",
              "      width: 32px;\n",
              "    }\n",
              "\n",
              "    .colab-df-convert:hover {\n",
              "      background-color: #E2EBFA;\n",
              "      box-shadow: 0px 1px 2px rgba(60, 64, 67, 0.3), 0px 1px 3px 1px rgba(60, 64, 67, 0.15);\n",
              "      fill: #174EA6;\n",
              "    }\n",
              "\n",
              "    [theme=dark] .colab-df-convert {\n",
              "      background-color: #3B4455;\n",
              "      fill: #D2E3FC;\n",
              "    }\n",
              "\n",
              "    [theme=dark] .colab-df-convert:hover {\n",
              "      background-color: #434B5C;\n",
              "      box-shadow: 0px 1px 3px 1px rgba(0, 0, 0, 0.15);\n",
              "      filter: drop-shadow(0px 1px 2px rgba(0, 0, 0, 0.3));\n",
              "      fill: #FFFFFF;\n",
              "    }\n",
              "  </style>\n",
              "\n",
              "      <script>\n",
              "        const buttonEl =\n",
              "          document.querySelector('#df-9e0c2f9f-c75d-4dd8-93b1-c69f167668f2 button.colab-df-convert');\n",
              "        buttonEl.style.display =\n",
              "          google.colab.kernel.accessAllowed ? 'block' : 'none';\n",
              "\n",
              "        async function convertToInteractive(key) {\n",
              "          const element = document.querySelector('#df-9e0c2f9f-c75d-4dd8-93b1-c69f167668f2');\n",
              "          const dataTable =\n",
              "            await google.colab.kernel.invokeFunction('convertToInteractive',\n",
              "                                                     [key], {});\n",
              "          if (!dataTable) return;\n",
              "\n",
              "          const docLinkHtml = 'Like what you see? Visit the ' +\n",
              "            '<a target=\"_blank\" href=https://colab.research.google.com/notebooks/data_table.ipynb>data table notebook</a>'\n",
              "            + ' to learn more about interactive tables.';\n",
              "          element.innerHTML = '';\n",
              "          dataTable['output_type'] = 'display_data';\n",
              "          await google.colab.output.renderOutput(dataTable, element);\n",
              "          const docLink = document.createElement('div');\n",
              "          docLink.innerHTML = docLinkHtml;\n",
              "          element.appendChild(docLink);\n",
              "        }\n",
              "      </script>\n",
              "    </div>\n",
              "  </div>\n",
              "  "
            ],
            "text/plain": [
              "     feature_importance  ranking\n",
              "RSC            4.533393      1.0\n",
              "EC             2.212572      2.0\n",
              "SAR            2.003662      3.0\n",
              "Na             1.570997      4.0\n",
              "PI             0.463460      5.0"
            ]
          },
          "metadata": {}
        }
      ]
    },
    {
      "cell_type": "code",
      "source": [
        "rfecv.support_"
      ],
      "metadata": {
        "id": "QLHGep-43MS2"
      },
      "execution_count": null,
      "outputs": []
    },
    {
      "cell_type": "code",
      "source": [
        "X2.columns[rfecv.support_]"
      ],
      "metadata": {
        "id": "a24JavKTi_0s"
      },
      "execution_count": null,
      "outputs": []
    },
    {
      "cell_type": "code",
      "source": [
        "rfecv.ranking_"
      ],
      "metadata": {
        "id": "5nroxnPr6G4o"
      },
      "execution_count": null,
      "outputs": []
    },
    {
      "cell_type": "code",
      "source": [
        "np.absolute(rfecv.estimator_.coef_)"
      ],
      "metadata": {
        "id": "dK6UfidlPVdk"
      },
      "execution_count": null,
      "outputs": []
    },
    {
      "cell_type": "markdown",
      "source": [
        "#MANUAL FEATURE ELIMINATION\n",
        "\n",
        "#### Using LR as wrapper"
      ],
      "metadata": {
        "id": "mbTLdcWllrGi"
      }
    },
    {
      "cell_type": "code",
      "source": [
        "features = A2.columns\n",
        "f1 = features.copy().values.tolist()\n",
        "f2 = features.copy().values.tolist()\n",
        "dropper = []\n",
        "scoreBoard = {}\n",
        "\n",
        "from sklearn.linear_model import LogisticRegression\n",
        "from sklearn.metrics import accuracy_score\n",
        "\n",
        "lr = LogisticRegression()\n",
        "\n",
        "f = \"\"\n",
        "for c in f1:\n",
        "  f2 = features.copy().values.tolist()\n",
        "  dropper = []\n",
        "  dropper.append(f1.pop(0))\n",
        "  while (len(f2) > 1):\n",
        "    if (c == f):\n",
        "      f2.pop(0)\n",
        "      dropper.append(f2.pop(0))\n",
        "      f = dropper[len(dropper)-1]\n",
        "    else:\n",
        "      dropper.append(f2.pop(0))\n",
        "      f = dropper[len(dropper)-1]\n",
        "\n",
        "    Xnew = A2.drop(dropper, axis=1)\n",
        "    X_train, X_test, Y_train, Y_test = split_scale2(Xnew)\n",
        "    lr.fit(X_train,Y_train)\n",
        "    prediction= lr.predict(X_test)\n",
        "    acc = accuracy_score(Y_test,prediction)*100\n",
        "    name = str(c) + \"-\" + str(f)\n",
        "    scoreBoard[name] = acc\n",
        "\n",
        ""
      ],
      "metadata": {
        "id": "4wdNG3PWlbu-"
      },
      "execution_count": null,
      "outputs": []
    },
    {
      "cell_type": "code",
      "source": [
        "features"
      ],
      "metadata": {
        "colab": {
          "base_uri": "https://localhost:8080/"
        },
        "id": "3LM_D00qnJkn",
        "outputId": "f2de6451-4b6c-4f9d-8ec5-cdb6d1106e30"
      },
      "execution_count": null,
      "outputs": [
        {
          "output_type": "execute_result",
          "data": {
            "text/plain": [
              "Index(['RSC', 'PI', 'KR', 'MH', 'Na', 'SAR', 'SSP', 'EC'], dtype='object')"
            ]
          },
          "metadata": {},
          "execution_count": 69
        }
      ]
    },
    {
      "cell_type": "code",
      "source": [
        "for it in scoreBoard.items():\n",
        "  print (it)"
      ],
      "metadata": {
        "id": "p-JTaQoFmiHf",
        "colab": {
          "base_uri": "https://localhost:8080/"
        },
        "outputId": "e4d41db8-677b-4031-8b45-ad56f9aa1a07"
      },
      "execution_count": null,
      "outputs": [
        {
          "output_type": "stream",
          "name": "stdout",
          "text": [
            "('RSC-RSC', 81.94444444444444)\n",
            "('RSC-KR', 81.94444444444444)\n",
            "('RSC-MH', 81.94444444444444)\n",
            "('RSC-Na', 79.16666666666666)\n",
            "('RSC-SAR', 73.61111111111111)\n",
            "('RSC-SSP', 68.05555555555556)\n",
            "('KR-RSC', 83.33333333333334)\n",
            "('KR-PI', 83.33333333333334)\n",
            "('KR-KR', 81.94444444444444)\n",
            "('KR-Na', 76.38888888888889)\n",
            "('KR-SAR', 58.333333333333336)\n",
            "('KR-SSP', 58.333333333333336)\n",
            "('Na-RSC', 81.94444444444444)\n",
            "('Na-PI', 81.94444444444444)\n",
            "('Na-KR', 81.94444444444444)\n",
            "('Na-MH', 81.94444444444444)\n",
            "('Na-Na', 79.16666666666666)\n",
            "('Na-SSP', 76.38888888888889)\n",
            "('SSP-PI', 90.27777777777779)\n",
            "('SSP-KR', 90.27777777777779)\n",
            "('SSP-MH', 90.27777777777779)\n",
            "('SSP-Na', 88.88888888888889)\n",
            "('SSP-SAR', 93.05555555555556)\n",
            "('SSP-SSP', 90.27777777777779)\n"
          ]
        }
      ]
    },
    {
      "cell_type": "markdown",
      "source": [
        "## Manual - RF"
      ],
      "metadata": {
        "id": "_GDVggoSYmyI"
      }
    },
    {
      "cell_type": "code",
      "source": [
        "from sklearn.ensemble import RandomForestClassifier\n",
        "from sklearn.metrics import accuracy_score\n",
        "\n",
        "features = A2.columns\n",
        "f1 = features.copy().values.tolist()\n",
        "f2 = features.copy().values.tolist()\n",
        "dropper = []\n",
        "scoreBoard = {}\n",
        "\n",
        "rfc = RandomForestClassifier()\n",
        "\n",
        "for c in f1:\n",
        "  f2 = features.copy().values.tolist()\n",
        "  dropper = []\n",
        "  dropper.append(f1.pop(0))\n",
        "  while (len(f2) > 1):\n",
        "    Xnew = A2.drop(dropper, axis=1)\n",
        "    X_train, X_test, Y_train, Y_test = split_scale2(Xnew)\n",
        "    rfc.fit(X_train,Y_train)\n",
        "    prediction= rfc.predict(X_test)\n",
        "    acc = accuracy_score(Y_test,prediction)*100\n",
        "    name = str(c) + \"-\" + str(f)\n",
        "    scoreBoard[name] = acc\n",
        "\n",
        "    if (c == f):\n",
        "      f2.pop(0)\n",
        "      dropper.append(f2.pop(0))\n",
        "      f = dropper[len(dropper)-1]\n",
        "    else:\n",
        "      dropper.append(f2.pop(0))\n",
        "      f = dropper[len(dropper)-1]\n",
        "\n",
        "for it in scoreBoard.items():\n",
        "    print (it)"
      ],
      "metadata": {
        "id": "dX_hOzeXYpbx",
        "colab": {
          "base_uri": "https://localhost:8080/"
        },
        "outputId": "6c8e4078-2386-464a-95d4-16615558cdc6"
      },
      "execution_count": null,
      "outputs": [
        {
          "output_type": "stream",
          "name": "stdout",
          "text": [
            "('RSC-SSP', 90.27777777777779)\n",
            "('RSC-RSC', 91.66666666666666)\n",
            "('RSC-KR', 90.27777777777779)\n",
            "('RSC-MH', 90.27777777777779)\n",
            "('RSC-Na', 91.66666666666666)\n",
            "('RSC-SAR', 87.5)\n",
            "('KR-SSP', 91.66666666666666)\n",
            "('KR-RSC', 90.27777777777779)\n",
            "('KR-PI', 90.27777777777779)\n",
            "('KR-KR', 84.72222222222221)\n",
            "('KR-Na', 87.5)\n",
            "('KR-SAR', 77.77777777777779)\n",
            "('Na-SSP', 95.83333333333334)\n",
            "('Na-RSC', 90.27777777777779)\n",
            "('Na-PI', 88.88888888888889)\n",
            "('Na-KR', 88.88888888888889)\n",
            "('Na-MH', 87.5)\n",
            "('Na-Na', 87.5)\n",
            "('SSP-SSP', 94.44444444444444)\n",
            "('SSP-PI', 91.66666666666666)\n",
            "('SSP-KR', 93.05555555555556)\n",
            "('SSP-MH', 93.05555555555556)\n",
            "('SSP-Na', 93.05555555555556)\n",
            "('SSP-SAR', 93.05555555555556)\n"
          ]
        }
      ]
    },
    {
      "cell_type": "markdown",
      "source": [
        "## Manual SVC"
      ],
      "metadata": {
        "id": "3TrjjrQsbAp_"
      }
    },
    {
      "cell_type": "code",
      "source": [
        "from sklearn.svm import SVC\n",
        "from sklearn.metrics import accuracy_score\n",
        "\n",
        "features = A2.columns\n",
        "f1 = features.copy().values.tolist()\n",
        "f2 = features.copy().values.tolist()\n",
        "dropper = []\n",
        "scoreBoard = {}\n",
        "\n",
        "sv = SVC(kernel = 'linear')\n",
        "\n",
        "for c in f1:\n",
        "  f2 = features.copy().values.tolist()\n",
        "  dropper = []\n",
        "  dropper.append(f1.pop(0))\n",
        "  while (len(f2) > 1):\n",
        "    Xnew = A2.drop(dropper, axis=1)\n",
        "    X_train, X_test, Y_train, Y_test = split_scale2(Xnew)\n",
        "    sv.fit(X_train,Y_train)\n",
        "    prediction= sv.predict(X_test)\n",
        "    acc = accuracy_score(Y_test,prediction)*100\n",
        "    name = str(c) + \"-\" + str(f)\n",
        "    scoreBoard[name] = acc\n",
        "\n",
        "    if (c == f):\n",
        "      f2.pop(0)\n",
        "      dropper.append(f2.pop(0))\n",
        "      f = dropper[len(dropper)-1]\n",
        "    else:\n",
        "      dropper.append(f2.pop(0))\n",
        "      f = dropper[len(dropper)-1]\n",
        "\n",
        "for it in scoreBoard.items():\n",
        "    print (it)"
      ],
      "metadata": {
        "colab": {
          "base_uri": "https://localhost:8080/"
        },
        "id": "1zBlC4MFbJlm",
        "outputId": "6b3d20a3-d961-499e-eaca-dc79fa69c15b"
      },
      "execution_count": null,
      "outputs": [
        {
          "output_type": "stream",
          "name": "stdout",
          "text": [
            "('RSC-SSP', 84.72222222222221)\n",
            "('RSC-RSC', 84.72222222222221)\n",
            "('RSC-KR', 86.11111111111111)\n",
            "('RSC-MH', 84.72222222222221)\n",
            "('RSC-Na', 79.16666666666666)\n",
            "('RSC-SAR', 66.66666666666666)\n",
            "('KR-SSP', 90.27777777777779)\n",
            "('KR-RSC', 79.16666666666666)\n",
            "('KR-PI', 79.16666666666666)\n",
            "('KR-KR', 80.55555555555556)\n",
            "('KR-Na', 76.38888888888889)\n",
            "('KR-SAR', 68.05555555555556)\n",
            "('Na-SSP', 93.05555555555556)\n",
            "('Na-RSC', 86.11111111111111)\n",
            "('Na-PI', 80.55555555555556)\n",
            "('Na-KR', 80.55555555555556)\n",
            "('Na-MH', 81.94444444444444)\n",
            "('Na-Na', 73.61111111111111)\n",
            "('SSP-SSP', 93.05555555555556)\n",
            "('SSP-PI', 91.66666666666666)\n",
            "('SSP-KR', 93.05555555555556)\n",
            "('SSP-MH', 93.05555555555556)\n",
            "('SSP-Na', 93.05555555555556)\n",
            "('SSP-SAR', 95.83333333333334)\n"
          ]
        }
      ]
    }
  ],
  "metadata": {
    "accelerator": "GPU",
    "colab": {
      "collapsed_sections": [
        "kaltIPuQMdLF",
        "8PUrBzz8iBn7",
        "lO1WpxClhzMy",
        "WBrc7CbqfgJn",
        "IBXoGtlIeUJL",
        "Ghe64sTmiZRf",
        "5GXn4A4VUM5N",
        "feuYFGEKM1Oy",
        "O9eakt3JTl_3",
        "QBb-dZ4iKqYa",
        "mbTLdcWllrGi"
      ],
      "provenance": [],
      "include_colab_link": true
    },
    "kernelspec": {
      "display_name": "Python 3",
      "language": "python",
      "name": "python3"
    },
    "language_info": {
      "codemirror_mode": {
        "name": "ipython",
        "version": 3
      },
      "file_extension": ".py",
      "mimetype": "text/x-python",
      "name": "python",
      "nbconvert_exporter": "python",
      "pygments_lexer": "ipython3",
      "version": "3.7.1"
    }
  },
  "nbformat": 4,
  "nbformat_minor": 0
}